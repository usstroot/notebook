{
 "cells": [
  {
   "cell_type": "markdown",
   "metadata": {},
   "source": [
    "## 6-3 6-4 6-5"
   ]
  },
  {
   "cell_type": "code",
   "execution_count": 1,
   "metadata": {},
   "outputs": [],
   "source": [
    "import pandas as pd\n",
    "import numpy as np\n",
    "from sklearn.preprocessing import MinMaxScaler,StandardScaler\n",
    "from sklearn.preprocessing import LabelEncoder,OneHotEncoder\n",
    "from sklearn.preprocessing import Normalizer\n",
    "from sklearn.discriminant_analysis import LinearDiscriminantAnalysis\n",
    "from sklearn.decomposition import PCA\n",
    "#sl:satisfaction_level--False:MinMaxScaler,True:StandardScaler\n",
    "#le:last_evaluation--False:MinMaxScaler,True:StandardScaler\n",
    "#npr:number_project--False:MinMaxScaler,True:StandardScaler\n",
    "#amh:average_montly_hours--\n",
    "#tsc:time_spend_company--\n",
    "#wa:Work_accident--\n",
    "#pl5:promotion_last_5years--\n",
    "\n",
    "#dp:department--False:LabelEncoding,True:OneHotEncoding\n",
    "#slr:salary--\n",
    "def hr_preprocessing(sl=False,le=False,npr=False,\n",
    "                     amh=False,tsc=False,wa=False,pl5=False,dp=False,slr=False,\n",
    "                     lower_d=False,ld_n=1):\n",
    "    df=pd.read_csv(r'C:/HR.csv')\n",
    "    \n",
    "    #2. 清洗数据\n",
    "    df=df.dropna(subset=['satisfaction_level','last_evaluation'])\n",
    "    df=df[df['satisfaction_level']<=1][df['salary']!='nme']\n",
    "    df=df.rename(columns={'sales':'department'})\n",
    "    #1. 标注\n",
    "    label=df[\"left\"]\n",
    "    df=df.drop(\"left\",axis=1)\n",
    "    #3. 特征选择\n",
    "    #4. 特征处理\n",
    "    scaler_lst=[sl,le,npr,amh,tsc,wa,pl5]\n",
    "    column_lst=['satisfaction_level','last_evaluation','number_project',\n",
    "                'average_montly_hours','time_spend_company','Work_accident','promotion_last_5years']\n",
    "    for i in range(len(scaler_lst)):\n",
    "        if not scaler_lst[i]:\n",
    "            df[column_lst[i]]=MinMaxScaler().fit_transform(df[column_lst[i]].values.reshape(-1,1)).reshape(1,-1)[0]\n",
    "        else:\n",
    "            df[column_lst[i]]=StandardScaler().fit_transform(df[column_lst[i]].values.reshape(-1,1)).reshape(1,-1)[0]\n",
    "            \n",
    "    scaler_lst=[slr,dp]\n",
    "    column_lst=['salary','department']\n",
    "    for i in range(len(scaler_lst)):\n",
    "        if not scaler_lst[i]:\n",
    "            if column_lst[i]==\"salary\":\n",
    "                df[column_lst[i]]=[map_salary(s) for s in df[\"salary\"].values]\n",
    "            else:\n",
    "                df[column_lst[i]]=LabelEncoder().fit_transform(df[column_lst[i]])\n",
    "            df[column_lst[i]]=MinMaxScaler().fit_transform(df[column_lst[i]].values.reshape(-1,1)).reshape(1,-1)[0]\n",
    "        else:\n",
    "            df=pd.get_dummies(df,columns=[column_lst[i]])\n",
    "    \n",
    "    if lower_d:\n",
    "        #return LinearDiscriminantAnalysis(n_components=ld_n)\n",
    "        return PCA(n_components=ld_n).fit_transform(df.values),label\n",
    "    return df,label\n",
    "d=dict([(\"low\",0),('medium',1),('high',2)])\n",
    "def map_salary(s):\n",
    "    return d.get(s,0)"
   ]
  },
  {
   "cell_type": "code",
   "execution_count": 2,
   "metadata": {},
   "outputs": [],
   "source": [
    "def hr_modeling(features,label):\n",
    "    from sklearn.model_selection import train_test_split\n",
    "    f_v=features.values\n",
    "    l_v=label.values\n",
    "    X_tt,X_validation,Y_tt,Y_validation=train_test_split(f_v,l_v,test_size=0.2)\n",
    "    X_train,X_test,Y_train,Y_test=train_test_split(X_tt,Y_tt,test_size=0.25)\n",
    "    print(len(X_train),len(X_validation),len(X_test))\n",
    "    \n",
    "    #KNN\n",
    "    from sklearn.neighbors import NearestNeighbors,KNeighborsClassifier\n",
    "    knn_clf=KNeighborsClassifier(n_neighbors=3)\n",
    "    knn_clf_n5=KNeighborsClassifier(n_neighbors=5)\n",
    "    knn_clf.fit(X_train,Y_train)\n",
    "    knn_clf_n5.fit(X_train,Y_train)\n",
    "    Y_pred=knn_clf.predict(X_validation)\n",
    "    Y_pred_n5=knn_clf_n5.predict(X_validation)\n",
    "    from sklearn.metrics import accuracy_score,recall_score,f1_score\n",
    "    print(\"验证集\")\n",
    "    print(\"ACC:\",accuracy_score(Y_validation,Y_pred))\n",
    "    print(\"REC:\",recall_score(Y_validation,Y_pred))\n",
    "    print(\"F-Score:\",f1_score(Y_validation,Y_pred))\n",
    "    print(\"--n=5---\")\n",
    "    print(\"ACC:\",accuracy_score(Y_validation,Y_pred_n5))\n",
    "    print(\"REC:\",recall_score(Y_validation,Y_pred_n5))\n",
    "    print(\"F-Score:\",f1_score(Y_validation,Y_pred_n5))\n",
    "    \n",
    "    #用测试集衡量\n",
    "    Y_pred_test=knn_clf.predict(X_test)\n",
    "    print(\"测试得分\")\n",
    "    print(\"ACC:\",accuracy_score(Y_test,Y_pred_test))\n",
    "    print(\"REC:\",recall_score(Y_test,Y_pred_test))\n",
    "    print(\"F-Score:\",f1_score(Y_test,Y_pred_test))\n",
    "    \n",
    "    #模型存储\n",
    "    from sklearn.externals import joblib\n",
    "    joblib.dump(knn_clf,\"knn_clf\") #保存\n",
    "    #knn_clf=joblib.load(\"knn_clf\") #使用时再次加载"
   ]
  },
  {
   "cell_type": "code",
   "execution_count": 3,
   "metadata": {},
   "outputs": [
    {
     "name": "stderr",
     "output_type": "stream",
     "text": [
      "D:\\Anaconda3\\lib\\site-packages\\sklearn\\utils\\validation.py:475: DataConversionWarning: Data with input dtype int64 was converted to float64 by MinMaxScaler.\n",
      "  warnings.warn(msg, DataConversionWarning)\n"
     ]
    },
    {
     "name": "stdout",
     "output_type": "stream",
     "text": [
      "8999 3000 3000\n",
      "验证集\n",
      "ACC: 0.9523333333333334\n",
      "REC: 0.9145658263305322\n",
      "F-Score: 0.9013112491373361\n",
      "--n=5---\n",
      "ACC: 0.9463333333333334\n",
      "REC: 0.8865546218487395\n",
      "F-Score: 0.8871758934828311\n",
      "测试得分\n",
      "ACC: 0.952\n",
      "REC: 0.9270687237026648\n",
      "F-Score: 0.9017735334242838\n"
     ]
    }
   ],
   "source": [
    "def main():\n",
    "    features,label=hr_preprocessing()\n",
    "    hr_modeling(features,label)\n",
    "if __name__=='__main__':\n",
    "    main()"
   ]
  },
  {
   "cell_type": "markdown",
   "metadata": {},
   "source": [
    "由上面得分可知，n=3比n=5好一些"
   ]
  },
  {
   "cell_type": "markdown",
   "metadata": {},
   "source": [
    "上面特征都是经过归一化处理的\n",
    "下面看看另一种"
   ]
  },
  {
   "cell_type": "code",
   "execution_count": 4,
   "metadata": {},
   "outputs": [
    {
     "name": "stderr",
     "output_type": "stream",
     "text": [
      "D:\\Anaconda3\\lib\\site-packages\\sklearn\\utils\\validation.py:475: DataConversionWarning: Data with input dtype int64 was converted to float64 by StandardScaler.\n",
      "  warnings.warn(msg, DataConversionWarning)\n",
      "D:\\Anaconda3\\lib\\site-packages\\sklearn\\utils\\validation.py:475: DataConversionWarning: Data with input dtype int64 was converted to float64 by MinMaxScaler.\n",
      "  warnings.warn(msg, DataConversionWarning)\n"
     ]
    },
    {
     "name": "stdout",
     "output_type": "stream",
     "text": [
      "8999 3000 3000\n",
      "验证集\n",
      "ACC: 0.9573333333333334\n",
      "REC: 0.927461139896373\n",
      "F-Score: 0.9179487179487179\n",
      "--n=5---\n",
      "ACC: 0.9506666666666667\n",
      "REC: 0.9080310880829016\n",
      "F-Score: 0.904516129032258\n",
      "测试得分\n",
      "ACC: 0.949\n",
      "REC: 0.9276595744680851\n",
      "F-Score: 0.8952772073921972\n"
     ]
    }
   ],
   "source": [
    "def main():\n",
    "    features,label=hr_preprocessing(sl=True,le=True,npr=True,\n",
    "                     amh=True,tsc=True,wa=True,pl5=True,dp=True,slr=False\n",
    "                     )\n",
    "    hr_modeling(features,label)\n",
    "if __name__=='__main__':\n",
    "    main()"
   ]
  },
  {
   "cell_type": "code",
   "execution_count": 5,
   "metadata": {},
   "outputs": [
    {
     "name": "stdout",
     "output_type": "stream",
     "text": [
      "8999 3000 3000\n"
     ]
    },
    {
     "name": "stderr",
     "output_type": "stream",
     "text": [
      "D:\\Anaconda3\\lib\\site-packages\\sklearn\\utils\\validation.py:475: DataConversionWarning: Data with input dtype int64 was converted to float64 by MinMaxScaler.\n",
      "  warnings.warn(msg, DataConversionWarning)\n"
     ]
    },
    {
     "name": "stdout",
     "output_type": "stream",
     "text": [
      "验证集\n",
      "ACC: 0.943\n",
      "REC: 0.9232954545454546\n",
      "F-Score: 0.8837525492861998\n",
      "--n=5---\n",
      "ACC: 0.9366666666666666\n",
      "REC: 0.890625\n",
      "F-Score: 0.868421052631579\n",
      "测试得分\n",
      "ACC: 0.943\n",
      "REC: 0.9170182841068917\n",
      "F-Score: 0.8840677966101694\n"
     ]
    }
   ],
   "source": [
    "#只对部门进行one-hot编码\n",
    "def main():\n",
    "    features,label=hr_preprocessing(dp=True)\n",
    "    hr_modeling(features,label)\n",
    "if __name__=='__main__':\n",
    "    main()"
   ]
  },
  {
   "cell_type": "markdown",
   "metadata": {},
   "source": [
    "模型存储"
   ]
  },
  {
   "cell_type": "code",
   "execution_count": 6,
   "metadata": {},
   "outputs": [],
   "source": [
    "from sklearn.externals import joblib\n",
    "#joblib.dump(knn_clf,\"knn_clf\") #保存\n",
    "knn_clf=joblib.load(\"knn_clf\") #使用时再次加载"
   ]
  },
  {
   "cell_type": "markdown",
   "metadata": {},
   "source": [
    "6-4 分类-朴素贝叶斯"
   ]
  },
  {
   "cell_type": "code",
   "execution_count": 7,
   "metadata": {},
   "outputs": [],
   "source": [
    "def hr_models(features,label):\n",
    "    from sklearn.model_selection import train_test_split\n",
    "    f_v=features.values\n",
    "    l_v=label.values\n",
    "    X_tt,X_validation,Y_tt,Y_validation=train_test_split(f_v,l_v,test_size=0.2)\n",
    "    X_train,X_test,Y_train,Y_test=train_test_split(X_tt,Y_tt,test_size=0.25)\n",
    "    print(len(X_train),len(X_validation),len(X_test))\n",
    "    \n",
    "    from sklearn.metrics import accuracy_score,recall_score,f1_score\n",
    "    from sklearn.neighbors import NearestNeighbors,KNeighborsClassifier\n",
    "    from sklearn.naive_bayes import GaussianNB,BernoulliNB #高斯朴素贝叶斯，伯努利朴素贝叶斯\n",
    "    from sklearn.tree import DecisionTreeClassifier\n",
    "    models=[]\n",
    "    models.append((\"KNN\",KNeighborsClassifier(n_neighbors=3)))\n",
    "    models.append((\"GaussianNB\",GaussianNB()))\n",
    "    models.append((\"BernoulliNB\",BernoulliNB()))\n",
    "    models.append((\"DecisionTreeClassifier\",DecisionTreeClassifier()))\n",
    "    for clf_name,clf in models:\n",
    "        clf.fit(X_train,Y_train)\n",
    "        xy_lst=[(X_train,Y_train),(X_validation,Y_validation),(X_test,Y_test)]\n",
    "        for i in range(len(xy_lst)):\n",
    "            X_part=xy_lst[i][0]\n",
    "            Y_part=xy_lst[i][1]\n",
    "            Y_pred=clf.predict(X_part)\n",
    "            print(i) #0:训练集，1：验证集，2：测试集\n",
    "            print(clf_name,\"-ACC:\",accuracy_score(Y_part,Y_pred))\n",
    "            print(clf_name,\"-REC:\",recall_score(Y_part,Y_pred))\n",
    "            print(clf_name,\"-F1:\",f1_score(Y_part,Y_pred))"
   ]
  },
  {
   "cell_type": "code",
   "execution_count": 8,
   "metadata": {},
   "outputs": [
    {
     "name": "stderr",
     "output_type": "stream",
     "text": [
      "D:\\Anaconda3\\lib\\site-packages\\sklearn\\utils\\validation.py:475: DataConversionWarning: Data with input dtype int64 was converted to float64 by MinMaxScaler.\n",
      "  warnings.warn(msg, DataConversionWarning)\n"
     ]
    },
    {
     "name": "stdout",
     "output_type": "stream",
     "text": [
      "8999 3000 3000\n",
      "0\n",
      "KNN -ACC: 0.9705522835870652\n",
      "KNN -REC: 0.9578947368421052\n",
      "KNN -F1: 0.940462817344417\n",
      "1\n",
      "KNN -ACC: 0.947\n",
      "KNN -REC: 0.9043348281016442\n",
      "KNN -F1: 0.8838568298027758\n",
      "2\n",
      "KNN -ACC: 0.9443333333333334\n",
      "KNN -REC: 0.9163179916317992\n",
      "KNN -F1: 0.8872383524645509\n",
      "0\n",
      "GaussianNB -ACC: 0.7368596510723414\n",
      "GaussianNB -REC: 0.7775743707093822\n",
      "GaussianNB -F1: 0.5893166840097122\n",
      "1\n",
      "GaussianNB -ACC: 0.7253333333333334\n",
      "GaussianNB -REC: 0.7832585949177877\n",
      "GaussianNB -F1: 0.5598290598290598\n",
      "2\n",
      "GaussianNB -ACC: 0.729\n",
      "GaussianNB -REC: 0.7670850767085077\n",
      "GaussianNB -F1: 0.575013068478829\n",
      "0\n",
      "BernoulliNB -ACC: 0.8389821091232359\n",
      "BernoulliNB -REC: 0.4759725400457666\n",
      "BernoulliNB -F1: 0.5894020969113063\n",
      "1\n",
      "BernoulliNB -ACC: 0.8483333333333334\n",
      "BernoulliNB -REC: 0.47533632286995514\n",
      "BernoulliNB -F1: 0.5829514207149404\n",
      "2\n",
      "BernoulliNB -ACC: 0.8406666666666667\n",
      "BernoulliNB -REC: 0.4839609483960948\n",
      "BernoulliNB -F1: 0.5921501706484642\n",
      "0\n",
      "DecisionTreeClassifier -ACC: 1.0\n",
      "DecisionTreeClassifier -REC: 1.0\n",
      "DecisionTreeClassifier -F1: 1.0\n",
      "1\n",
      "DecisionTreeClassifier -ACC: 0.974\n",
      "DecisionTreeClassifier -REC: 0.9581464872944694\n",
      "DecisionTreeClassifier -F1: 0.9426470588235294\n",
      "2\n",
      "DecisionTreeClassifier -ACC: 0.9796666666666667\n",
      "DecisionTreeClassifier -REC: 0.9693165969316597\n",
      "DecisionTreeClassifier -F1: 0.9579600275671951\n"
     ]
    }
   ],
   "source": [
    "def main():\n",
    "    features,label=hr_preprocessing(dp=True)\n",
    "    hr_models(features,label)\n",
    "if __name__=='__main__':\n",
    "    main()"
   ]
  },
  {
   "cell_type": "markdown",
   "metadata": {},
   "source": [
    "## 分类决策树"
   ]
  },
  {
   "cell_type": "markdown",
   "metadata": {},
   "source": [
    "http://graphviz.org/"
   ]
  },
  {
   "cell_type": "code",
   "execution_count": 9,
   "metadata": {},
   "outputs": [],
   "source": [
    "import os\n",
    "os.environ[\"PATH\"]+=os.pathsep+\"D:\\Program Files\\graphviz-2.38\\release\\bin\""
   ]
  },
  {
   "cell_type": "markdown",
   "metadata": {},
   "source": [
    "* cmd下运行：conda install -c conda-forge pydotplus"
   ]
  },
  {
   "cell_type": "code",
   "execution_count": 10,
   "metadata": {},
   "outputs": [],
   "source": [
    "import pydotplus"
   ]
  },
  {
   "cell_type": "code",
   "execution_count": 11,
   "metadata": {},
   "outputs": [
    {
     "name": "stderr",
     "output_type": "stream",
     "text": [
      "D:\\Anaconda3\\lib\\site-packages\\sklearn\\utils\\validation.py:475: DataConversionWarning: Data with input dtype int64 was converted to float64 by MinMaxScaler.\n",
      "  warnings.warn(msg, DataConversionWarning)\n"
     ]
    }
   ],
   "source": [
    "features,label=hr_preprocessing(dp=True)"
   ]
  },
  {
   "cell_type": "code",
   "execution_count": 12,
   "metadata": {},
   "outputs": [
    {
     "name": "stdout",
     "output_type": "stream",
     "text": [
      "8999 3000 3000\n"
     ]
    }
   ],
   "source": [
    "from sklearn.model_selection import train_test_split\n",
    "f_v=features.values\n",
    "l_v=label.values\n",
    "X_tt,X_validation,Y_tt,Y_validation=train_test_split(f_v,l_v,test_size=0.2)\n",
    "X_train,X_test,Y_train,Y_test=train_test_split(X_tt,Y_tt,test_size=0.25)\n",
    "print(len(X_train),len(X_validation),len(X_test))"
   ]
  },
  {
   "cell_type": "code",
   "execution_count": 13,
   "metadata": {},
   "outputs": [
    {
     "name": "stdout",
     "output_type": "stream",
     "text": [
      "----DecisionTreeGini----\n",
      "-ACC: 0.973\n",
      "-REC: 0.9615384615384616\n",
      "-F1: 0.9433962264150944\n"
     ]
    }
   ],
   "source": [
    "from sklearn.metrics import accuracy_score,recall_score,f1_score\n",
    "from sklearn.tree import DecisionTreeClassifier,export_graphviz\n",
    "from sklearn.externals.six import StringIO\n",
    "dtree_clf=DecisionTreeClassifier()\n",
    "dtree_clf.fit(X_train,Y_train)\n",
    "Y_pred=dtree_clf.predict(X_validation)\n",
    "print(\"----DecisionTreeGini----\")\n",
    "print(\"-ACC:\",accuracy_score(Y_validation,Y_pred))\n",
    "print(\"-REC:\",recall_score(Y_validation,Y_pred))\n",
    "print(\"-F1:\",f1_score(Y_validation,Y_pred))"
   ]
  },
  {
   "cell_type": "code",
   "execution_count": 14,
   "metadata": {},
   "outputs": [],
   "source": [
    "dot_data=export_graphviz(dtree_clf,out_file=None,\n",
    "                        feature_names=features.columns.values,\n",
    "                        class_names=[\"NL\",\"L\"],\n",
    "                        filled=True,\n",
    "                        rounded=True,\n",
    "                        special_characters=True\n",
    "                )"
   ]
  },
  {
   "cell_type": "code",
   "execution_count": 15,
   "metadata": {},
   "outputs": [],
   "source": [
    "graph=pydotplus.graph_from_dot_data(dot_data)"
   ]
  },
  {
   "cell_type": "code",
   "execution_count": 16,
   "metadata": {},
   "outputs": [
    {
     "data": {
      "text/plain": [
       "True"
      ]
     },
     "execution_count": 16,
     "metadata": {},
     "output_type": "execute_result"
    }
   ],
   "source": [
    "graph.write_pdf(\"dt_tree.pdf\")"
   ]
  },
  {
   "cell_type": "markdown",
   "metadata": {},
   "source": [
    "画决策树的另外一种写法"
   ]
  },
  {
   "cell_type": "code",
   "execution_count": 17,
   "metadata": {},
   "outputs": [
    {
     "data": {
      "text/plain": [
       "True"
      ]
     },
     "execution_count": 17,
     "metadata": {},
     "output_type": "execute_result"
    }
   ],
   "source": [
    "dot_data=StringIO()\n",
    "export_graphviz(dtree_clf,out_file=dot_data,\n",
    "                        feature_names=features.columns.values,\n",
    "                        class_names=[\"NL\",\"L\"],\n",
    "                        filled=True,\n",
    "                        rounded=True,\n",
    "                        special_characters=True\n",
    "                )\n",
    "graph=pydotplus.graph_from_dot_data(dot_data.getvalue())\n",
    "graph.write_pdf(\"dt_tree_2.pdf\")"
   ]
  },
  {
   "cell_type": "markdown",
   "metadata": {},
   "source": [
    "DecisionTreeEntropy"
   ]
  },
  {
   "cell_type": "code",
   "execution_count": 18,
   "metadata": {},
   "outputs": [
    {
     "name": "stdout",
     "output_type": "stream",
     "text": [
      "----DecisionTreeClassifier----\n",
      "-ACC: 0.9756666666666667\n",
      "-REC: 0.9615384615384616\n",
      "-F1: 0.9486999297259311\n"
     ]
    }
   ],
   "source": [
    "dtree_clf=DecisionTreeClassifier(criterion='entropy')\n",
    "dtree_clf.fit(X_train,Y_train)\n",
    "Y_pred=dtree_clf.predict(X_validation)\n",
    "print(\"----DecisionTreeClassifier----\")\n",
    "print(\"-ACC:\",accuracy_score(Y_validation,Y_pred))\n",
    "print(\"-REC:\",recall_score(Y_validation,Y_pred))\n",
    "print(\"-F1:\",f1_score(Y_validation,Y_pred))"
   ]
  },
  {
   "cell_type": "markdown",
   "metadata": {},
   "source": [
    "调参"
   ]
  },
  {
   "cell_type": "code",
   "execution_count": 19,
   "metadata": {},
   "outputs": [
    {
     "name": "stdout",
     "output_type": "stream",
     "text": [
      "----DecisionTreeClassifier----\n",
      "-ACC: 0.975\n",
      "-REC: 0.9316239316239316\n",
      "-F1: 0.9457700650759219\n"
     ]
    },
    {
     "name": "stderr",
     "output_type": "stream",
     "text": [
      "D:\\Anaconda3\\lib\\site-packages\\sklearn\\tree\\tree.py:282: DeprecationWarning: The min_impurity_split parameter is deprecated and will be removed in version 0.21. Use the min_impurity_decrease parameter instead.\n",
      "  DeprecationWarning)\n"
     ]
    }
   ],
   "source": [
    "dtree_clf=DecisionTreeClassifier(criterion='gini',min_impurity_split=0.1)\n",
    "dtree_clf.fit(X_train,Y_train)\n",
    "Y_pred=dtree_clf.predict(X_validation)\n",
    "print(\"----DecisionTreeClassifier----\")\n",
    "print(\"-ACC:\",accuracy_score(Y_validation,Y_pred))\n",
    "print(\"-REC:\",recall_score(Y_validation,Y_pred))\n",
    "print(\"-F1:\",f1_score(Y_validation,Y_pred))"
   ]
  },
  {
   "cell_type": "markdown",
   "metadata": {},
   "source": [
    "## 6-6 分类-支持向量机"
   ]
  },
  {
   "cell_type": "code",
   "execution_count": 20,
   "metadata": {},
   "outputs": [
    {
     "name": "stdout",
     "output_type": "stream",
     "text": [
      "----SVM--Classifier----\n",
      "-ACC: 0.9616666666666667\n",
      "-REC: 0.9188034188034188\n",
      "-F1: 0.9181494661921707\n"
     ]
    }
   ],
   "source": [
    "from sklearn.svm import SVC\n",
    "svc_clf=SVC(C=1000)\n",
    "svc_clf.fit(X_train,Y_train)\n",
    "Y_pred = svc_clf.predict(X_validation)\n",
    "print(\"----SVM--Classifier----\")\n",
    "print(\"-ACC:\",accuracy_score(Y_validation,Y_pred))\n",
    "print(\"-REC:\",recall_score(Y_validation,Y_pred))\n",
    "print(\"-F1:\",f1_score(Y_validation,Y_pred))"
   ]
  },
  {
   "cell_type": "markdown",
   "metadata": {},
   "source": [
    "https://www.bilibili.com/video/av38197896/?p=67"
   ]
  },
  {
   "cell_type": "markdown",
   "metadata": {},
   "source": [
    "## 6-7 分类-集成-随机森林"
   ]
  },
  {
   "cell_type": "code",
   "execution_count": 27,
   "metadata": {},
   "outputs": [
    {
     "name": "stdout",
     "output_type": "stream",
     "text": [
      "---RandomForestClassifier---\n",
      "ACC 0.9846666666666667\n",
      "REC 0.9501424501424501\n",
      "F1 0.9666666666666667\n"
     ]
    }
   ],
   "source": [
    "from sklearn.ensemble import RandomForestClassifier\n",
    "rf_clf=RandomForestClassifier(n_estimators=10,max_features=\"auto\",bootstrap=True)\n",
    "rf_clf.fit(X_train,Y_train)\n",
    "Y_pred=rf_clf.predict(X_validation)\n",
    "print(\"---RandomForestClassifier---\")\n",
    "print(\"ACC\",accuracy_score(Y_validation,Y_pred))\n",
    "print(\"REC\",recall_score(Y_validation,Y_pred))\n",
    "print(\"F1\",f1_score(Y_validation,Y_pred))"
   ]
  },
  {
   "cell_type": "markdown",
   "metadata": {},
   "source": [
    "## 6-8 分类-集成-Adaboost"
   ]
  },
  {
   "cell_type": "markdown",
   "metadata": {},
   "source": [
    "提升法（boost)\n",
    "Adaboost优点：\n",
    "* 精度高，且灵活可调\n",
    "* 几乎不用担心过拟合\n",
    "* 简化特征工程流程"
   ]
  },
  {
   "cell_type": "code",
   "execution_count": 35,
   "metadata": {},
   "outputs": [
    {
     "name": "stdout",
     "output_type": "stream",
     "text": [
      "---AdaBoostClassifier---\n",
      "ACC 0.962\n",
      "REC 0.9216524216524217\n",
      "F1 0.9190340909090909\n"
     ]
    }
   ],
   "source": [
    "from sklearn.ensemble import AdaBoostClassifier\n",
    "adb_clf=AdaBoostClassifier(n_estimators=100)\n",
    "adb_clf.fit(X_train,Y_train)\n",
    "Y_pred=adb_clf.predict(X_validation)\n",
    "print(\"---AdaBoostClassifier---\")\n",
    "print(\"ACC\",accuracy_score(Y_validation,Y_pred))\n",
    "print(\"REC\",recall_score(Y_validation,Y_pred))\n",
    "print(\"F1\",f1_score(Y_validation,Y_pred))"
   ]
  },
  {
   "cell_type": "markdown",
   "metadata": {},
   "source": [
    "测试集"
   ]
  },
  {
   "cell_type": "code",
   "execution_count": 38,
   "metadata": {},
   "outputs": [
    {
     "name": "stdout",
     "output_type": "stream",
     "text": [
      "acc 0.7696666666666667\n",
      "rec 0.0\n",
      "F1 0.0\n"
     ]
    },
    {
     "name": "stderr",
     "output_type": "stream",
     "text": [
      "D:\\Anaconda3\\lib\\site-packages\\sklearn\\metrics\\classification.py:1135: UndefinedMetricWarning: F-score is ill-defined and being set to 0.0 due to no predicted samples.\n",
      "  'precision', 'predicted', average, warn_for)\n"
     ]
    }
   ],
   "source": [
    "adaboost_clf=AdaBoostClassifier(base_estimator=SVC(),algorithm=\"SAMME\")\n",
    "adaboost_clf.fit(X_train,Y_train)\n",
    "Y_pred_test=adaboost_clf.predict(X_test)\n",
    "print(\"acc\",accuracy_score(Y_test,Y_pred_test))\n",
    "print(\"rec\",recall_score(Y_test,Y_pred_test))\n",
    "print(\"F1\",f1_score(Y_test,Y_pred_test))"
   ]
  },
  {
   "cell_type": "markdown",
   "metadata": {},
   "source": [
    "## 6-9 回归-线性回归"
   ]
  },
  {
   "cell_type": "code",
   "execution_count": null,
   "metadata": {},
   "outputs": [],
   "source": []
  }
 ],
 "metadata": {
  "kernelspec": {
   "display_name": "Python 3",
   "language": "python",
   "name": "python3"
  },
  "language_info": {
   "codemirror_mode": {
    "name": "ipython",
    "version": 3
   },
   "file_extension": ".py",
   "mimetype": "text/x-python",
   "name": "python",
   "nbconvert_exporter": "python",
   "pygments_lexer": "ipython3",
   "version": "3.7.0"
  }
 },
 "nbformat": 4,
 "nbformat_minor": 2
}
