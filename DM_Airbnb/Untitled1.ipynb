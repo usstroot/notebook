{
 "cells": [
  {
   "cell_type": "code",
   "execution_count": 2,
   "metadata": {},
   "outputs": [
    {
     "ename": "NameError",
     "evalue": "name 'datetime' is not defined",
     "output_type": "error",
     "traceback": [
      "\u001b[1;31m---------------------------------------------------------------------------\u001b[0m",
      "\u001b[1;31mNameError\u001b[0m                                 Traceback (most recent call last)",
      "\u001b[1;32m<ipython-input-2-12296f5f63f9>\u001b[0m in \u001b[0;36m<module>\u001b[1;34m()\u001b[0m\n\u001b[0;32m     37\u001b[0m \u001b[0mid\u001b[0m \u001b[1;33m=\u001b[0m \u001b[1;34m'110110199509255713'\u001b[0m\u001b[1;33m\u001b[0m\u001b[0m\n\u001b[0;32m     38\u001b[0m \u001b[0mbirthday\u001b[0m \u001b[1;33m=\u001b[0m \u001b[0mGetInformation\u001b[0m\u001b[1;33m(\u001b[0m\u001b[0mid\u001b[0m\u001b[1;33m)\u001b[0m\u001b[1;33m.\u001b[0m\u001b[0mget_birthday\u001b[0m\u001b[1;33m(\u001b[0m\u001b[1;33m)\u001b[0m \u001b[1;31m# 1995-09-25\u001b[0m\u001b[1;33m\u001b[0m\u001b[0m\n\u001b[1;32m---> 39\u001b[1;33m \u001b[0mage\u001b[0m \u001b[1;33m=\u001b[0m \u001b[0mGetInformation\u001b[0m\u001b[1;33m(\u001b[0m\u001b[0mid\u001b[0m\u001b[1;33m)\u001b[0m\u001b[1;33m.\u001b[0m\u001b[0mget_age\u001b[0m\u001b[1;33m(\u001b[0m\u001b[1;33m)\u001b[0m \u001b[1;31m# 23\u001b[0m\u001b[1;33m\u001b[0m\u001b[0m\n\u001b[0m\u001b[0;32m     40\u001b[0m \u001b[1;33m\u001b[0m\u001b[0m\n\u001b[0;32m     41\u001b[0m \u001b[1;31m#原文链接：https://blog.csdn.net/qq_37049781/article/details/79899254\u001b[0m\u001b[1;33m\u001b[0m\u001b[1;33m\u001b[0m\u001b[0m\n",
      "\u001b[1;32m<ipython-input-2-12296f5f63f9>\u001b[0m in \u001b[0;36mget_age\u001b[1;34m(self)\u001b[0m\n\u001b[0;32m     22\u001b[0m      \u001b[1;32mdef\u001b[0m \u001b[0mget_age\u001b[0m\u001b[1;33m(\u001b[0m\u001b[0mself\u001b[0m\u001b[1;33m)\u001b[0m\u001b[1;33m:\u001b[0m\u001b[1;33m\u001b[0m\u001b[0m\n\u001b[0;32m     23\u001b[0m          \u001b[1;34m\"\"\"通过身份证号获取年龄\"\"\"\u001b[0m\u001b[1;33m\u001b[0m\u001b[0m\n\u001b[1;32m---> 24\u001b[1;33m          \u001b[0mnow\u001b[0m \u001b[1;33m=\u001b[0m \u001b[1;33m(\u001b[0m\u001b[0mdatetime\u001b[0m\u001b[1;33m.\u001b[0m\u001b[0mdatetime\u001b[0m\u001b[1;33m.\u001b[0m\u001b[0mnow\u001b[0m\u001b[1;33m(\u001b[0m\u001b[1;33m)\u001b[0m \u001b[1;33m+\u001b[0m \u001b[0mdatetime\u001b[0m\u001b[1;33m.\u001b[0m\u001b[0mtimedelta\u001b[0m\u001b[1;33m(\u001b[0m\u001b[0mdays\u001b[0m\u001b[1;33m=\u001b[0m\u001b[1;36m1\u001b[0m\u001b[1;33m)\u001b[0m\u001b[1;33m)\u001b[0m\u001b[1;33m\u001b[0m\u001b[0m\n\u001b[0m\u001b[0;32m     25\u001b[0m          \u001b[0myear\u001b[0m \u001b[1;33m=\u001b[0m \u001b[0mnow\u001b[0m\u001b[1;33m.\u001b[0m\u001b[0myear\u001b[0m\u001b[1;33m\u001b[0m\u001b[0m\n\u001b[0;32m     26\u001b[0m          \u001b[0mmonth\u001b[0m \u001b[1;33m=\u001b[0m \u001b[0mnow\u001b[0m\u001b[1;33m.\u001b[0m\u001b[0mmonth\u001b[0m\u001b[1;33m\u001b[0m\u001b[0m\n",
      "\u001b[1;31mNameError\u001b[0m: name 'datetime' is not defined"
     ]
    }
   ],
   "source": [
    "class GetInformation(object):\n",
    "\n",
    "     def __init__(self,id):\n",
    "         self.id = id\n",
    "         self.birth_year = int(self.id[6:10])\n",
    "         self.birth_month = int(self.id[10:12])\n",
    "         self.birth_day = int(self.id[12:14])\n",
    "\n",
    "     def get_birthday(self):\n",
    "         \"\"\"通过身份证号获取出生日期\"\"\"\n",
    "         birthday = \"{0}-{1}-{2}\".format(self.birth_year, self.birth_month, self.birth_day)\n",
    "         return birthday\n",
    "\n",
    "     def get_sex(self):\n",
    "         \"\"\"男生：1 女生：2\"\"\"\n",
    "         num = int(self.id[16:17])\n",
    "         if num % 2 == 0:\n",
    "             return 2\n",
    "         else:\n",
    "             return 1\n",
    "\n",
    "     def get_age(self):\n",
    "         \"\"\"通过身份证号获取年龄\"\"\"\n",
    "         now = (datetime.datetime.now() + datetime.timedelta(days=1))\n",
    "         year = now.year\n",
    "         month = now.month\n",
    "         day = now.day\n",
    "\n",
    "         if year == self.birth_year:\n",
    "             return 0\n",
    "         else:\n",
    "             if self.birth_month > month or (self.birth_month == month and self.birth_day > day):\n",
    "                 return year - self.birth_year - 1\n",
    "             else:\n",
    "                 return year - self.birth_year\n",
    "\n",
    "id = '110110199509255713'\n",
    "birthday = GetInformation(id).get_birthday() # 1995-09-25\n",
    "age = GetInformation(id).get_age() # 23\n",
    "\n",
    "#原文链接：https://blog.csdn.net/qq_37049781/article/details/79899254"
   ]
  },
  {
   "cell_type": "code",
   "execution_count": null,
   "metadata": {
    "collapsed": true
   },
   "outputs": [],
   "source": []
  }
 ],
 "metadata": {
  "kernelspec": {
   "display_name": "Python 3",
   "language": "python",
   "name": "python3"
  },
  "language_info": {
   "codemirror_mode": {
    "name": "ipython",
    "version": 3
   },
   "file_extension": ".py",
   "mimetype": "text/x-python",
   "name": "python",
   "nbconvert_exporter": "python",
   "pygments_lexer": "ipython3",
   "version": "3.6.3"
  }
 },
 "nbformat": 4,
 "nbformat_minor": 2
}
