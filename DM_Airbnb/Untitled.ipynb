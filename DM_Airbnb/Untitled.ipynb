{
 "cells": [
  {
   "cell_type": "markdown",
   "metadata": {},
   "source": [
    "* [github](https://github.com/troywu666/Airbnb_data_analyse)\n",
    "* [blog](https://blog.csdn.net/datawhale/article/details/80847662)"
   ]
  },
  {
   "cell_type": "code",
   "execution_count": 1,
   "metadata": {
    "collapsed": true
   },
   "outputs": [],
   "source": [
    "import numpy as np\n",
    "import pandas as pd\n",
    "import matplotlib.pyplot as plt\n",
    "import sklearn as sk\n",
    "%matplotlib inline\n",
    "import datetime\n",
    "import os\n",
    "import seaborn as sns#数据可视化\n",
    "from datetime import date\n",
    "from sklearn.preprocessing import LabelEncoder\n",
    "from sklearn.preprocessing import StandardScaler\n",
    "from sklearn.preprocessing import LabelBinarizer\n",
    "import pickle #用于存储模型\n",
    "import seaborn as sns\n",
    "from sklearn.metrics import *\n",
    "from sklearn.model_selection import *"
   ]
  },
  {
   "cell_type": "markdown",
   "metadata": {},
   "source": [
    "导入数据"
   ]
  },
  {
   "cell_type": "code",
   "execution_count": 2,
   "metadata": {
    "collapsed": true
   },
   "outputs": [],
   "source": [
    "train=pd.read_csv(\"./input/train_users_2.csv\")"
   ]
  },
  {
   "cell_type": "code",
   "execution_count": 3,
   "metadata": {
    "collapsed": true
   },
   "outputs": [],
   "source": [
    "test=pd.read_csv(\"./input/test_users.csv\")"
   ]
  },
  {
   "cell_type": "code",
   "execution_count": 4,
   "metadata": {},
   "outputs": [
    {
     "data": {
      "text/html": [
       "<div>\n",
       "<style>\n",
       "    .dataframe thead tr:only-child th {\n",
       "        text-align: right;\n",
       "    }\n",
       "\n",
       "    .dataframe thead th {\n",
       "        text-align: left;\n",
       "    }\n",
       "\n",
       "    .dataframe tbody tr th {\n",
       "        vertical-align: top;\n",
       "    }\n",
       "</style>\n",
       "<table border=\"1\" class=\"dataframe\">\n",
       "  <thead>\n",
       "    <tr style=\"text-align: right;\">\n",
       "      <th></th>\n",
       "      <th>id</th>\n",
       "      <th>date_account_created</th>\n",
       "      <th>timestamp_first_active</th>\n",
       "      <th>date_first_booking</th>\n",
       "      <th>gender</th>\n",
       "      <th>age</th>\n",
       "      <th>signup_method</th>\n",
       "      <th>signup_flow</th>\n",
       "      <th>language</th>\n",
       "      <th>affiliate_channel</th>\n",
       "      <th>affiliate_provider</th>\n",
       "      <th>first_affiliate_tracked</th>\n",
       "      <th>signup_app</th>\n",
       "      <th>first_device_type</th>\n",
       "      <th>first_browser</th>\n",
       "      <th>country_destination</th>\n",
       "    </tr>\n",
       "  </thead>\n",
       "  <tbody>\n",
       "    <tr>\n",
       "      <th>0</th>\n",
       "      <td>gxn3p5htnn</td>\n",
       "      <td>2010-06-28</td>\n",
       "      <td>20090319043255</td>\n",
       "      <td>NaN</td>\n",
       "      <td>-unknown-</td>\n",
       "      <td>NaN</td>\n",
       "      <td>facebook</td>\n",
       "      <td>0</td>\n",
       "      <td>en</td>\n",
       "      <td>direct</td>\n",
       "      <td>direct</td>\n",
       "      <td>untracked</td>\n",
       "      <td>Web</td>\n",
       "      <td>Mac Desktop</td>\n",
       "      <td>Chrome</td>\n",
       "      <td>NDF</td>\n",
       "    </tr>\n",
       "    <tr>\n",
       "      <th>1</th>\n",
       "      <td>820tgsjxq7</td>\n",
       "      <td>2011-05-25</td>\n",
       "      <td>20090523174809</td>\n",
       "      <td>NaN</td>\n",
       "      <td>MALE</td>\n",
       "      <td>38.0</td>\n",
       "      <td>facebook</td>\n",
       "      <td>0</td>\n",
       "      <td>en</td>\n",
       "      <td>seo</td>\n",
       "      <td>google</td>\n",
       "      <td>untracked</td>\n",
       "      <td>Web</td>\n",
       "      <td>Mac Desktop</td>\n",
       "      <td>Chrome</td>\n",
       "      <td>NDF</td>\n",
       "    </tr>\n",
       "    <tr>\n",
       "      <th>2</th>\n",
       "      <td>4ft3gnwmtx</td>\n",
       "      <td>2010-09-28</td>\n",
       "      <td>20090609231247</td>\n",
       "      <td>2010-08-02</td>\n",
       "      <td>FEMALE</td>\n",
       "      <td>56.0</td>\n",
       "      <td>basic</td>\n",
       "      <td>3</td>\n",
       "      <td>en</td>\n",
       "      <td>direct</td>\n",
       "      <td>direct</td>\n",
       "      <td>untracked</td>\n",
       "      <td>Web</td>\n",
       "      <td>Windows Desktop</td>\n",
       "      <td>IE</td>\n",
       "      <td>US</td>\n",
       "    </tr>\n",
       "    <tr>\n",
       "      <th>3</th>\n",
       "      <td>bjjt8pjhuk</td>\n",
       "      <td>2011-12-05</td>\n",
       "      <td>20091031060129</td>\n",
       "      <td>2012-09-08</td>\n",
       "      <td>FEMALE</td>\n",
       "      <td>42.0</td>\n",
       "      <td>facebook</td>\n",
       "      <td>0</td>\n",
       "      <td>en</td>\n",
       "      <td>direct</td>\n",
       "      <td>direct</td>\n",
       "      <td>untracked</td>\n",
       "      <td>Web</td>\n",
       "      <td>Mac Desktop</td>\n",
       "      <td>Firefox</td>\n",
       "      <td>other</td>\n",
       "    </tr>\n",
       "    <tr>\n",
       "      <th>4</th>\n",
       "      <td>87mebub9p4</td>\n",
       "      <td>2010-09-14</td>\n",
       "      <td>20091208061105</td>\n",
       "      <td>2010-02-18</td>\n",
       "      <td>-unknown-</td>\n",
       "      <td>41.0</td>\n",
       "      <td>basic</td>\n",
       "      <td>0</td>\n",
       "      <td>en</td>\n",
       "      <td>direct</td>\n",
       "      <td>direct</td>\n",
       "      <td>untracked</td>\n",
       "      <td>Web</td>\n",
       "      <td>Mac Desktop</td>\n",
       "      <td>Chrome</td>\n",
       "      <td>US</td>\n",
       "    </tr>\n",
       "  </tbody>\n",
       "</table>\n",
       "</div>"
      ],
      "text/plain": [
       "           id date_account_created  timestamp_first_active date_first_booking  \\\n",
       "0  gxn3p5htnn           2010-06-28          20090319043255                NaN   \n",
       "1  820tgsjxq7           2011-05-25          20090523174809                NaN   \n",
       "2  4ft3gnwmtx           2010-09-28          20090609231247         2010-08-02   \n",
       "3  bjjt8pjhuk           2011-12-05          20091031060129         2012-09-08   \n",
       "4  87mebub9p4           2010-09-14          20091208061105         2010-02-18   \n",
       "\n",
       "      gender   age signup_method  signup_flow language affiliate_channel  \\\n",
       "0  -unknown-   NaN      facebook            0       en            direct   \n",
       "1       MALE  38.0      facebook            0       en               seo   \n",
       "2     FEMALE  56.0         basic            3       en            direct   \n",
       "3     FEMALE  42.0      facebook            0       en            direct   \n",
       "4  -unknown-  41.0         basic            0       en            direct   \n",
       "\n",
       "  affiliate_provider first_affiliate_tracked signup_app first_device_type  \\\n",
       "0             direct               untracked        Web       Mac Desktop   \n",
       "1             google               untracked        Web       Mac Desktop   \n",
       "2             direct               untracked        Web   Windows Desktop   \n",
       "3             direct               untracked        Web       Mac Desktop   \n",
       "4             direct               untracked        Web       Mac Desktop   \n",
       "\n",
       "  first_browser country_destination  \n",
       "0        Chrome                 NDF  \n",
       "1        Chrome                 NDF  \n",
       "2            IE                  US  \n",
       "3       Firefox               other  \n",
       "4        Chrome                  US  "
      ]
     },
     "execution_count": 4,
     "metadata": {},
     "output_type": "execute_result"
    }
   ],
   "source": [
    "train.head()"
   ]
  },
  {
   "cell_type": "markdown",
   "metadata": {},
   "source": [
    "- id: user id （用户id）\n",
    "- date_account_created（帐号注册时间）: the date of account creation\n",
    "- timestamp_first_active（首次活跃时间）: timestamp of the first activity, note that it can be earlier than date_account_created or date_first_booking because a user can search before signing up\n",
    "- date_first_booking（首次订房时间）: date of first booking\n",
    "- gender（性别）\n",
    "- age（年龄）\n",
    "- signup_method（注册方式）\n",
    "- signup_flow（注册页面）: the page a user came to signup up from\n",
    "- language（语言）: international language preference\n",
    "- affiliate_channel（付费市场渠道）: what kind of paid marketing\n",
    "- affiliate_provider（付费市场渠道名称）: where the marketing is e.g. google, craigslist, other\n",
    "- first_affiliate_tracked（注册前第一个接触的市场渠道）: whats the first marketing the user interacted with before the signing up\n",
    "- signup_app（注册app）\n",
    "- first_device_type(设备类型)\n",
    "- first_browser（浏览器类型）\n",
    "- country_destination（订房国家-需要预测的量）: this is the target variable you are to predict"
   ]
  },
  {
   "cell_type": "code",
   "execution_count": 5,
   "metadata": {},
   "outputs": [
    {
     "data": {
      "text/plain": [
       "(213451, 16)"
      ]
     },
     "execution_count": 5,
     "metadata": {},
     "output_type": "execute_result"
    }
   ],
   "source": [
    "train.shape"
   ]
  },
  {
   "cell_type": "code",
   "execution_count": 6,
   "metadata": {},
   "outputs": [
    {
     "data": {
      "text/plain": [
       "(62096, 15)"
      ]
     },
     "execution_count": 6,
     "metadata": {},
     "output_type": "execute_result"
    }
   ],
   "source": [
    "test.shape"
   ]
  },
  {
   "cell_type": "code",
   "execution_count": 7,
   "metadata": {},
   "outputs": [
    {
     "data": {
      "text/plain": [
       "{'country_destination'}"
      ]
     },
     "execution_count": 7,
     "metadata": {},
     "output_type": "execute_result"
    }
   ],
   "source": [
    "set(train.columns)-set(test.columns)   #country_destination是需要预测的目标变量"
   ]
  },
  {
   "cell_type": "code",
   "execution_count": 8,
   "metadata": {},
   "outputs": [
    {
     "name": "stdout",
     "output_type": "stream",
     "text": [
      "<class 'pandas.core.frame.DataFrame'>\n",
      "RangeIndex: 213451 entries, 0 to 213450\n",
      "Data columns (total 16 columns):\n",
      "id                         213451 non-null object\n",
      "date_account_created       213451 non-null object\n",
      "timestamp_first_active     213451 non-null int64\n",
      "date_first_booking         88908 non-null object\n",
      "gender                     213451 non-null object\n",
      "age                        125461 non-null float64\n",
      "signup_method              213451 non-null object\n",
      "signup_flow                213451 non-null int64\n",
      "language                   213451 non-null object\n",
      "affiliate_channel          213451 non-null object\n",
      "affiliate_provider         213451 non-null object\n",
      "first_affiliate_tracked    207386 non-null object\n",
      "signup_app                 213451 non-null object\n",
      "first_device_type          213451 non-null object\n",
      "first_browser              213451 non-null object\n",
      "country_destination        213451 non-null object\n",
      "dtypes: float64(1), int64(2), object(13)\n",
      "memory usage: 26.1+ MB\n"
     ]
    }
   ],
   "source": [
    "train.info()"
   ]
  },
  {
   "cell_type": "markdown",
   "metadata": {},
   "source": [
    "#文件包含213451行数据，16个特征，每个特征的数据类型和非空数值，date_first_booking空值较多"
   ]
  },
  {
   "cell_type": "markdown",
   "metadata": {},
   "source": [
    "## 对每个字段逐一分析"
   ]
  },
  {
   "cell_type": "markdown",
   "metadata": {},
   "source": [
    "## 1. date_account_created"
   ]
  },
  {
   "cell_type": "code",
   "execution_count": 11,
   "metadata": {},
   "outputs": [
    {
     "data": {
      "text/plain": [
       "count         213451\n",
       "unique          1634\n",
       "top       2014-05-13\n",
       "freq             674\n",
       "Name: date_account_created, dtype: object"
      ]
     },
     "execution_count": 11,
     "metadata": {},
     "output_type": "execute_result"
    }
   ],
   "source": [
    "train.date_account_created.describe()"
   ]
  },
  {
   "cell_type": "markdown",
   "metadata": {},
   "source": [
    "### 统计并查看分布"
   ]
  },
  {
   "cell_type": "code",
   "execution_count": 17,
   "metadata": {
    "scrolled": true
   },
   "outputs": [
    {
     "name": "stdout",
     "output_type": "stream",
     "text": [
      "2014-05-13    674\n",
      "2014-06-24    670\n",
      "2014-06-25    636\n",
      "2014-05-20    632\n",
      "2014-05-14    622\n",
      "Name: date_account_created, dtype: int64\n",
      "2010-01-28    1\n",
      "2010-01-19    1\n",
      "2010-04-11    1\n",
      "2010-04-24    1\n",
      "2010-06-18    1\n",
      "Name: date_account_created, dtype: int64\n"
     ]
    }
   ],
   "source": [
    "print(train.date_account_created.value_counts().head())\n",
    "print(train.date_account_created.value_counts().tail())"
   ]
  },
  {
   "cell_type": "code",
   "execution_count": 19,
   "metadata": {},
   "outputs": [
    {
     "data": {
      "text/plain": [
       "<matplotlib.legend.Legend at 0x20c54ff14e0>"
      ]
     },
     "execution_count": 19,
     "metadata": {},
     "output_type": "execute_result"
    },
    {
     "data": {
      "image/png": "[encoded data removed]",
      "text/plain": [
       "<matplotlib.figure.Figure at 0x20c54ff1278>"
      ]
     },
     "metadata": {},
     "output_type": "display_data"
    }
   ],
   "source": [
    "dac_train = train.date_account_created.value_counts()\n",
    "dac_test = test.date_account_created.value_counts()\n",
    "#将数据类型转换为datatime类型\n",
    "dac_train_date = pd.to_datetime(train.date_account_created.value_counts().index)\n",
    "dac_test_date = pd.to_datetime(test.date_account_created.value_counts().index)\n",
    "#计算离首次注册时间相差的天数\n",
    "dac_train_day = dac_train_date - dac_train_date.min()\n",
    "dac_test_day = dac_test_date - dac_train_date.min()\n",
    "#motplotlib作图\n",
    "plt.scatter(dac_train_day.days, dac_train.values, color = 'r', label = 'train dataset')\n",
    "plt.scatter(dac_test_day.days, dac_test.values, color = 'b', label = 'test dataset')\n",
    "\n",
    "plt.title(\"Accounts created vs day\")\n",
    "plt.xlabel(\"Days\")\n",
    "plt.ylabel(\"Accounts created\")\n",
    "plt.legend(loc = 'upper center')"
   ]
  },
  {
   "cell_type": "markdown",
   "metadata": {},
   "source": [
    "1. x轴表示离首次注册的天数，y轴表示当天注册的用户数量\n",
    "2. 随着时间的增长,用户注册的数量在急剧上升"
   ]
  },
  {
   "cell_type": "markdown",
   "metadata": {},
   "source": [
    "## 2. timestamp_first_active"
   ]
  },
  {
   "cell_type": "code",
   "execution_count": 22,
   "metadata": {},
   "outputs": [
    {
     "data": {
      "text/plain": [
       "0    20090319043255\n",
       "1    20090523174809\n",
       "2    20090609231247\n",
       "3    20091031060129\n",
       "4    20091208061105\n",
       "Name: timestamp_first_active, dtype: int64"
      ]
     },
     "execution_count": 22,
     "metadata": {},
     "output_type": "execute_result"
    }
   ],
   "source": [
    "train.timestamp_first_active.head()"
   ]
  },
  {
   "cell_type": "markdown",
   "metadata": {},
   "source": [
    "对数据进行统计看非重复值的数量"
   ]
  },
  {
   "cell_type": "code",
   "execution_count": 23,
   "metadata": {},
   "outputs": [
    {
     "data": {
      "text/plain": [
       "array([1], dtype=int64)"
      ]
     },
     "execution_count": 23,
     "metadata": {},
     "output_type": "execute_result"
    }
   ],
   "source": [
    "train.timestamp_first_active.value_counts().unique()"
   ]
  },
  {
   "cell_type": "markdown",
   "metadata": {},
   "source": [
    "结果[1]表明timestamp_first_active没有重复数据"
   ]
  },
  {
   "cell_type": "markdown",
   "metadata": {},
   "source": [
    "* 将object数据类型转换为时间数据类型"
   ]
  },
  {
   "cell_type": "code",
   "execution_count": 26,
   "metadata": {},
   "outputs": [
    {
     "data": {
      "text/plain": [
       "0   2009-03-19 04:32:55\n",
       "1   2009-05-23 17:48:09\n",
       "2   2009-06-09 23:12:47\n",
       "3   2009-10-31 06:01:29\n",
       "4   2009-12-08 06:11:05\n",
       "Name: timestamp_first_active, dtype: datetime64[ns]"
      ]
     },
     "execution_count": 26,
     "metadata": {},
     "output_type": "execute_result"
    }
   ],
   "source": [
    "tfa_train=train.timestamp_first_active\n",
    "tfa_train=train.timestamp_first_active.map(lambda x: datetime.datetime.strptime(str(x),'%Y%m%d%H%M%S'))\n",
    "tfa_train.head()"
   ]
  },
  {
   "cell_type": "markdown",
   "metadata": {},
   "source": [
    "### 查看用户一天中活跃的时间段"
   ]
  },
  {
   "cell_type": "code",
   "execution_count": 45,
   "metadata": {},
   "outputs": [
    {
     "data": {
      "text/plain": [
       "<matplotlib.axes._subplots.AxesSubplot at 0x20c593ce208>"
      ]
     },
     "execution_count": 45,
     "metadata": {},
     "output_type": "execute_result"
    },
    {
     "data": {
      "image/png": "[encoded data removed]",
      "text/plain": [
       "<matplotlib.figure.Figure at 0x20c5b7df6d8>"
      ]
     },
     "metadata": {},
     "output_type": "display_data"
    }
   ],
   "source": [
    "sns.pointplot(x=tfa_train.dt.hour.value_counts().index,y=tfa_train.dt.hour.value_counts().values)"
   ]
  },
  {
   "cell_type": "markdown",
   "metadata": {},
   "source": [
    "用户首次活跃时间在一天中集中分布在17点之后到凌晨5点"
   ]
  },
  {
   "cell_type": "markdown",
   "metadata": {},
   "source": [
    "## 3. date_first_booking"
   ]
  },
  {
   "cell_type": "code",
   "execution_count": 46,
   "metadata": {},
   "outputs": [
    {
     "data": {
      "text/plain": [
       "count          88908\n",
       "unique          1976\n",
       "top       2014-05-22\n",
       "freq             248\n",
       "Name: date_first_booking, dtype: object"
      ]
     },
     "execution_count": 46,
     "metadata": {},
     "output_type": "execute_result"
    }
   ],
   "source": [
    "train.date_first_booking.describe()"
   ]
  },
  {
   "cell_type": "code",
   "execution_count": 48,
   "metadata": {},
   "outputs": [
    {
     "data": {
      "text/plain": [
       "0.5834734904029496"
      ]
     },
     "execution_count": 48,
     "metadata": {},
     "output_type": "execute_result"
    }
   ],
   "source": [
    "train.date_first_booking.isnull().sum()/213451"
   ]
  },
  {
   "cell_type": "markdown",
   "metadata": {},
   "source": [
    "首次订房时间缺失高达50%以上，可考虑删除该字段"
   ]
  },
  {
   "cell_type": "markdown",
   "metadata": {},
   "source": [
    "## 4. age"
   ]
  },
  {
   "cell_type": "code",
   "execution_count": 52,
   "metadata": {},
   "outputs": [
    {
     "data": {
      "text/plain": [
       "30.0    6124\n",
       "31.0    6016\n",
       "29.0    5963\n",
       "28.0    5939\n",
       "32.0    5855\n",
       "27.0    5738\n",
       "33.0    5527\n",
       "26.0    5044\n",
       "34.0    5029\n",
       "35.0    4860\n",
       "Name: age, dtype: int64"
      ]
     },
     "execution_count": 52,
     "metadata": {},
     "output_type": "execute_result"
    }
   ],
   "source": [
    "train.age.value_counts(ascending=False).head(10)"
   ]
  },
  {
   "cell_type": "markdown",
   "metadata": {},
   "source": [
    "用户年龄主要集中在30左右"
   ]
  },
  {
   "cell_type": "code",
   "execution_count": 54,
   "metadata": {},
   "outputs": [
    {
     "data": {
      "text/plain": [
       "Text(0,0.5,'counts')"
      ]
     },
     "execution_count": 54,
     "metadata": {},
     "output_type": "execute_result"
    },
    {
     "data": {
      "image/png": "[encoded data removed]",
      "text/plain": [
       "<matplotlib.figure.Figure at 0x20c55aa5278>"
      ]
     },
     "metadata": {},
     "output_type": "display_data"
    }
   ],
   "source": [
    "#首先将年龄进行分成4组missing values, too small age, reasonable age, too large age\n",
    "age_train =[train[train.age.isnull()].age.shape[0],\n",
    "            train.query('age < 15').age.shape[0],\n",
    "            train.query(\"age >= 15 & age <= 90\").age.shape[0],\n",
    "            train.query('age > 90').age.shape[0]]\n",
    "\n",
    "age_test = [test[test.age.isnull()].age.shape[0],\n",
    "            test.query('age < 15').age.shape[0],\n",
    "            test.query(\"age >= 15 & age <= 90\").age.shape[0],\n",
    "            test.query('age > 90').age.shape[0]]\n",
    "\n",
    "columns = ['Null', 'age < 15', 'age', 'age > 90']\n",
    "\n",
    "# plot\n",
    "fig, (ax1,ax2) = plt.subplots(1,2,sharex=True, sharey = True,figsize=(10,5))\n",
    "\n",
    "sns.barplot(columns, age_train, ax = ax1)\n",
    "sns.barplot(columns, age_test, ax = ax2)\n",
    "\n",
    "ax1.set_title('training dataset')\n",
    "ax2.set_title('test dataset')\n",
    "ax1.set_ylabel('counts')"
   ]
  },
  {
   "cell_type": "code",
   "execution_count": 56,
   "metadata": {
    "collapsed": true
   },
   "outputs": [],
   "source": [
    "#统一使用柱状图进行统计\n",
    "def feature_barplot(feature, df_train = train, df_test = test, figsize=(10,5), rot = 90, saveimg = False): \n",
    "    feat_train = df_train[feature].value_counts()\n",
    "    feat_test = df_test[feature].value_counts()\n",
    "    fig_feature, (axis1,axis2) = plt.subplots(1,2,sharex=True, sharey = True, figsize = figsize)\n",
    "    sns.barplot(feat_train.index.values, feat_train.values, ax = axis1)\n",
    "    sns.barplot(feat_test.index.values, feat_test.values, ax = axis2)\n",
    "    axis1.set_xticklabels(axis1.xaxis.get_majorticklabels(), rotation = rot)\n",
    "    axis2.set_xticklabels(axis1.xaxis.get_majorticklabels(), rotation = rot)\n",
    "    axis1.set_title(feature + ' of training dataset')\n",
    "    axis2.set_title(feature + ' of test dataset')\n",
    "    axis1.set_ylabel('Counts')\n",
    "    plt.tight_layout()\n",
    "    if saveimg == True:\n",
    "        figname = feature + \".png\"\n",
    "        fig_feature.savefig(figname, dpi = 75)"
   ]
  },
  {
   "cell_type": "code",
   "execution_count": 57,
   "metadata": {
    "scrolled": false
   },
   "outputs": [
    {
     "data": {
      "image/png": "[encoded data removed]",
      "text/plain": [
       "<matplotlib.figure.Figure at 0x20c5475f710>"
      ]
     },
     "metadata": {},
     "output_type": "display_data"
    }
   ],
   "source": [
    "feature_barplot('gender', saveimg = True)"
   ]
  },
  {
   "cell_type": "code",
   "execution_count": 58,
   "metadata": {},
   "outputs": [
    {
     "data": {
      "image/png": "[encoded data removed]",
      "text/plain": [
       "<matplotlib.figure.Figure at 0x20c5cca6da0>"
      ]
     },
     "metadata": {},
     "output_type": "display_data"
    }
   ],
   "source": [
    "feature_barplot('signup_method')"
   ]
  },
  {
   "cell_type": "code",
   "execution_count": 59,
   "metadata": {},
   "outputs": [
    {
     "data": {
      "image/png": "[encoded data removed]",
      "text/plain": [
       "<matplotlib.figure.Figure at 0x20c5c6946a0>"
      ]
     },
     "metadata": {},
     "output_type": "display_data"
    }
   ],
   "source": [
    "feature_barplot('signup_app')"
   ]
  },
  {
   "cell_type": "markdown",
   "metadata": {},
   "source": [
    "# sesion文件"
   ]
  },
  {
   "cell_type": "code",
   "execution_count": 60,
   "metadata": {},
   "outputs": [
    {
     "data": {
      "text/html": [
       "<div>\n",
       "<style>\n",
       "    .dataframe thead tr:only-child th {\n",
       "        text-align: right;\n",
       "    }\n",
       "\n",
       "    .dataframe thead th {\n",
       "        text-align: left;\n",
       "    }\n",
       "\n",
       "    .dataframe tbody tr th {\n",
       "        vertical-align: top;\n",
       "    }\n",
       "</style>\n",
       "<table border=\"1\" class=\"dataframe\">\n",
       "  <thead>\n",
       "    <tr style=\"text-align: right;\">\n",
       "      <th></th>\n",
       "      <th>user_id</th>\n",
       "      <th>action</th>\n",
       "      <th>action_type</th>\n",
       "      <th>action_detail</th>\n",
       "      <th>device_type</th>\n",
       "      <th>secs_elapsed</th>\n",
       "    </tr>\n",
       "  </thead>\n",
       "  <tbody>\n",
       "    <tr>\n",
       "      <th>0</th>\n",
       "      <td>d1mm9tcy42</td>\n",
       "      <td>lookup</td>\n",
       "      <td>NaN</td>\n",
       "      <td>NaN</td>\n",
       "      <td>Windows Desktop</td>\n",
       "      <td>319.0</td>\n",
       "    </tr>\n",
       "    <tr>\n",
       "      <th>1</th>\n",
       "      <td>d1mm9tcy42</td>\n",
       "      <td>search_results</td>\n",
       "      <td>click</td>\n",
       "      <td>view_search_results</td>\n",
       "      <td>Windows Desktop</td>\n",
       "      <td>67753.0</td>\n",
       "    </tr>\n",
       "    <tr>\n",
       "      <th>2</th>\n",
       "      <td>d1mm9tcy42</td>\n",
       "      <td>lookup</td>\n",
       "      <td>NaN</td>\n",
       "      <td>NaN</td>\n",
       "      <td>Windows Desktop</td>\n",
       "      <td>301.0</td>\n",
       "    </tr>\n",
       "    <tr>\n",
       "      <th>3</th>\n",
       "      <td>d1mm9tcy42</td>\n",
       "      <td>search_results</td>\n",
       "      <td>click</td>\n",
       "      <td>view_search_results</td>\n",
       "      <td>Windows Desktop</td>\n",
       "      <td>22141.0</td>\n",
       "    </tr>\n",
       "    <tr>\n",
       "      <th>4</th>\n",
       "      <td>jpmpj40cvk</td>\n",
       "      <td>lookup</td>\n",
       "      <td>NaN</td>\n",
       "      <td>NaN</td>\n",
       "      <td>Windows Desktop</td>\n",
       "      <td>957.0</td>\n",
       "    </tr>\n",
       "  </tbody>\n",
       "</table>\n",
       "</div>"
      ],
      "text/plain": [
       "      user_id          action action_type        action_detail  \\\n",
       "0  d1mm9tcy42          lookup         NaN                  NaN   \n",
       "1  d1mm9tcy42  search_results       click  view_search_results   \n",
       "2  d1mm9tcy42          lookup         NaN                  NaN   \n",
       "3  d1mm9tcy42  search_results       click  view_search_results   \n",
       "4  jpmpj40cvk          lookup         NaN                  NaN   \n",
       "\n",
       "       device_type  secs_elapsed  \n",
       "0  Windows Desktop         319.0  \n",
       "1  Windows Desktop       67753.0  \n",
       "2  Windows Desktop         301.0  \n",
       "3  Windows Desktop       22141.0  \n",
       "4  Windows Desktop         957.0  "
      ]
     },
     "execution_count": 60,
     "metadata": {},
     "output_type": "execute_result"
    }
   ],
   "source": [
    "df_sessions=pd.read_csv('./input/sessions.csv')\n",
    "df_sessions.head()"
   ]
  },
  {
   "cell_type": "code",
   "execution_count": 61,
   "metadata": {
    "collapsed": true
   },
   "outputs": [],
   "source": [
    "#将user_id改名为id\n",
    "df_sessions.rename(columns={'user_id':'id'},inplace=True)"
   ]
  },
  {
   "cell_type": "code",
   "execution_count": 62,
   "metadata": {},
   "outputs": [
    {
     "data": {
      "text/plain": [
       "(1048575, 6)"
      ]
     },
     "execution_count": 62,
     "metadata": {},
     "output_type": "execute_result"
    }
   ],
   "source": [
    "df_sessions.shape"
   ]
  },
  {
   "cell_type": "markdown",
   "metadata": {},
   "source": [
    "查看缺失值"
   ]
  },
  {
   "cell_type": "code",
   "execution_count": 63,
   "metadata": {},
   "outputs": [
    {
     "data": {
      "text/plain": [
       "id                 2797\n",
       "action             7873\n",
       "action_type      143097\n",
       "action_detail    143097\n",
       "device_type           0\n",
       "secs_elapsed      11067\n",
       "dtype: int64"
      ]
     },
     "execution_count": 63,
     "metadata": {},
     "output_type": "execute_result"
    }
   ],
   "source": [
    "df_sessions.isnull().sum()"
   ]
  },
  {
   "cell_type": "markdown",
   "metadata": {},
   "source": [
    "1. action，action_type，action_detail， secs_elapsed缺失值较多\n",
    "2. 填充缺失值，(此处用了字符串'NAN')"
   ]
  },
  {
   "cell_type": "code",
   "execution_count": 64,
   "metadata": {},
   "outputs": [
    {
     "data": {
      "text/plain": [
       "id                2797\n",
       "action               0\n",
       "action_type          0\n",
       "action_detail        0\n",
       "device_type          0\n",
       "secs_elapsed     11067\n",
       "dtype: int64"
      ]
     },
     "execution_count": 64,
     "metadata": {},
     "output_type": "execute_result"
    }
   ],
   "source": [
    "df_sessions.action = df_sessions.action.fillna('NAN')\n",
    "df_sessions.action_type = df_sessions.action_type.fillna('NAN')\n",
    "df_sessions.action_detail = df_sessions.action_detail.fillna('NAN')\n",
    "df_sessions.isnull().sum()"
   ]
  },
  {
   "cell_type": "markdown",
   "metadata": {},
   "source": [
    "#对action进行统计，我们可以发现用户action有多种，且最少的发生次数只有1，接下来我们可以对用户发生次数较少的行为列为OTHER一类"
   ]
  },
  {
   "cell_type": "code",
   "execution_count": 66,
   "metadata": {
    "scrolled": true
   },
   "outputs": [
    {
     "data": {
      "text/plain": [
       "payoneer_account_redirect          9\n",
       "invalid_action                     9\n",
       "redirect                           9\n",
       "request_photography                8\n",
       "pricing                            7\n",
       "become_user                        7\n",
       "press_content                      7\n",
       "hospitality                        7\n",
       "apply_code                         6\n",
       "city_count                         6\n",
       "multi                              6\n",
       "onenight                           6\n",
       "social                             5\n",
       "ajax_send_message                  5\n",
       "create_paypal                      5\n",
       "apply                              5\n",
       "new_session                        5\n",
       "zendesk_login_jwt                  4\n",
       "phone_verification                 4\n",
       "google_importer                    4\n",
       "payoneer_signup_complete           4\n",
       "founders                           4\n",
       "change_availability                4\n",
       "ajax_photo_widget                  4\n",
       "respond                            4\n",
       "office_location                    3\n",
       "press_news                         3\n",
       "slideshow                          3\n",
       "locations                          3\n",
       "message                            3\n",
       "travel                             3\n",
       "locale_from_host                   2\n",
       "create_ach                         2\n",
       "home_safety_landing                2\n",
       "has_profile_pic                    2\n",
       "how_it_works                       2\n",
       "load_more                          2\n",
       "reservation                        2\n",
       "update_reservation_requirements    2\n",
       "life                               2\n",
       "media_resources                    1\n",
       "wishlists                          1\n",
       "maybe_information                  1\n",
       "feed                               1\n",
       "change_default_payout              1\n",
       "guest_billing_receipt              1\n",
       "localized                          1\n",
       "recommendation_page                1\n",
       "southern-europe                    1\n",
       "relationship                       1\n",
       "photography_update                 1\n",
       "satisfy                            1\n",
       "departments                        1\n",
       "sublets                            1\n",
       "Name: action, dtype: int64"
      ]
     },
     "execution_count": 66,
     "metadata": {},
     "output_type": "execute_result"
    }
   ],
   "source": [
    "df_sessions.action.value_counts()[df_sessions.action.value_counts()<10]"
   ]
  },
  {
   "cell_type": "code",
   "execution_count": 67,
   "metadata": {
    "collapsed": true
   },
   "outputs": [],
   "source": [
    "#Action values with low frequency are changed to 'OTHER'\n",
    "act_freq = 100  #Threshold of frequency\n",
    "act = dict(zip(*np.unique(df_sessions.action, return_counts=True)))\n",
    "df_sessions.action = df_sessions.action.apply(lambda x: 'OTHER' if act[x] < act_freq else x)\n",
    "#np.unique(df_sessions.action, return_counts=True) 取以数组形式返回非重复的action值和它的数量\n",
    "#zip（*（a,b））a,b种元素一一对应，返回zip object"
   ]
  },
  {
   "cell_type": "code",
   "execution_count": 68,
   "metadata": {},
   "outputs": [
    {
     "data": {
      "text/plain": [
       "{'10': 200,\n",
       " '12': 282,\n",
       " 'NAN': 7873,\n",
       " 'OTHER': 3184,\n",
       " 'account': 1112,\n",
       " 'active': 15855,\n",
       " 'add_note': 161,\n",
       " 'ajax_check_dates': 8387,\n",
       " 'ajax_get_referrals_amt': 557,\n",
       " 'ajax_image_upload': 1560,\n",
       " 'ajax_lwlb_contact': 5042,\n",
       " 'ajax_payout_edit': 103,\n",
       " 'ajax_payout_options_by_country': 115,\n",
       " 'ajax_photo_widget_form_iframe': 2424,\n",
       " 'ajax_refresh_subtotal': 71482,\n",
       " 'ajax_statsd': 307,\n",
       " 'apply_reservation': 1272,\n",
       " 'ask_question': 6994,\n",
       " 'at_checkpoint': 497,\n",
       " 'authenticate': 6021,\n",
       " 'authorize': 127,\n",
       " 'available': 717,\n",
       " 'calendar_tab_inner2': 9353,\n",
       " 'callback': 888,\n",
       " 'campaigns': 2943,\n",
       " 'cancellation_policies': 1592,\n",
       " 'click': 555,\n",
       " 'collections': 12763,\n",
       " 'complete': 320,\n",
       " 'complete_status': 1790,\n",
       " 'confirm_email': 7424,\n",
       " 'connect': 1000,\n",
       " 'contact_new': 175,\n",
       " 'create': 17262,\n",
       " 'create_multiple': 153,\n",
       " 'dashboard': 9535,\n",
       " 'decision_tree': 308,\n",
       " 'delete': 623,\n",
       " 'domains': 438,\n",
       " 'edit': 7716,\n",
       " 'edit_verification': 2288,\n",
       " 'facebook_auto_login': 550,\n",
       " 'faq': 1192,\n",
       " 'faq_category': 906,\n",
       " 'faq_experiment_ids': 704,\n",
       " 'glob': 119,\n",
       " 'header_userpic': 17332,\n",
       " 'hosting_social_proof': 2510,\n",
       " 'identity': 2846,\n",
       " 'index': 69441,\n",
       " 'itinerary': 127,\n",
       " 'jumio_redirect': 446,\n",
       " 'jumio_token': 751,\n",
       " 'kba': 1012,\n",
       " 'kba_update': 1619,\n",
       " 'languages_multiselect': 662,\n",
       " 'listing': 136,\n",
       " 'listings': 4327,\n",
       " 'login': 276,\n",
       " 'login_modal': 585,\n",
       " 'lookup': 88302,\n",
       " 'manage_listing': 2144,\n",
       " 'my': 1710,\n",
       " 'new': 817,\n",
       " 'notifications': 3420,\n",
       " 'open_graph_setting': 1341,\n",
       " 'other_hosting_reviews': 142,\n",
       " 'other_hosting_reviews_first': 5934,\n",
       " 'pay': 104,\n",
       " 'payment_instruments': 1113,\n",
       " 'payment_methods': 414,\n",
       " 'payout_preferences': 337,\n",
       " 'pending': 2844,\n",
       " 'pending_tickets': 136,\n",
       " 'personalize': 105718,\n",
       " 'phone_number_widget': 875,\n",
       " 'phone_verification_modal': 227,\n",
       " 'popular': 155,\n",
       " 'populate_from_facebook': 746,\n",
       " 'populate_help_dropdown': 946,\n",
       " 'profile_pic': 2126,\n",
       " 'qt2': 4537,\n",
       " 'qt_reply_v2': 1147,\n",
       " 'qt_with': 194,\n",
       " 'recent_reservations': 272,\n",
       " 'references': 810,\n",
       " 'referrer_status': 189,\n",
       " 'remove_dashboard_alert': 144,\n",
       " 'request_new_confirm_email': 794,\n",
       " 'requested': 6242,\n",
       " 'reviews': 4704,\n",
       " 'reviews_new': 616,\n",
       " 'search': 26520,\n",
       " 'search_results': 109430,\n",
       " 'set_user': 937,\n",
       " 'settings': 447,\n",
       " 'show': 209655,\n",
       " 'show_personalize': 5542,\n",
       " 'signature': 327,\n",
       " 'signup_login': 395,\n",
       " 'signup_modal': 356,\n",
       " 'similar_listings': 53814,\n",
       " 'social_connections': 15301,\n",
       " 'status': 270,\n",
       " 'supported': 176,\n",
       " 'tell_a_friend': 247,\n",
       " 'this_hosting_reviews': 816,\n",
       " 'tos_confirm': 309,\n",
       " 'track_page_view': 17089,\n",
       " 'transaction_history': 113,\n",
       " 'transaction_history_paginated': 221,\n",
       " 'travel_plans_current': 2965,\n",
       " 'unavailabilities': 4702,\n",
       " 'update': 38829,\n",
       " 'update_notifications': 176,\n",
       " 'uptodate': 462,\n",
       " 'verify': 3337}"
      ]
     },
     "execution_count": 68,
     "metadata": {},
     "output_type": "execute_result"
    }
   ],
   "source": [
    "dict(zip(*np.unique(df_sessions.action,return_counts=True)))"
   ]
  },
  {
   "cell_type": "markdown",
   "metadata": {},
   "source": [
    "首先将用户的特征根据用户id进行分组\n",
    "- **特征action：**统计每个用户总的action出现的次数，各个action类型的数量，平均值以及标准差\n",
    "- **特征action_detail：**统计每个用户总的action_detail出现的次数，各个action_detail类型的数量，平均值以及标准差\n",
    "- **特征action_type：**统计每个用户总的action_type出现的次数，各个action_type类型的数量，平均值，标准差以及总的停留时长（进行log处理）\n",
    "- **特征device_type：**统计每个用户总的device_type出现的次数，各个device_type类型的数量，平均值以及标准差\n",
    "- **特征secs_elapsed：**对缺失值用0填充，统计每个用户secs_elapsed时间的总和，平均值，标准差以及中位数（进行log处理），（总和/平均数），secs_elapsed（log处理后）各个时间出现的次数"
   ]
  },
  {
   "cell_type": "code",
   "execution_count": 69,
   "metadata": {
    "collapsed": true
   },
   "outputs": [],
   "source": [
    "#对action特征进行细化\n",
    "f_act = df_sessions.action.value_counts().argsort()\n",
    "f_act_detail = df_sessions.action_detail.value_counts().argsort()\n",
    "f_act_type = df_sessions.action_type.value_counts().argsort()\n",
    "f_dev_type = df_sessions.device_type.value_counts().argsort()\n",
    "\n",
    "#按照id进行分组\n",
    "dgr_sess = df_sessions.groupby(['id'])\n",
    "#Loop on dgr_sess to create all the features.\n",
    "samples = [] #samples列表\n",
    "ln = len(dgr_sess) #计算分组后df_sessions的长度\n",
    "\n",
    "for g in dgr_sess:  #对dgr_sess中每个id的数据进行遍历\n",
    "    gr = g[1]   #data frame that comtains all the data for a groupby value 'zzywmcn0jv'\n",
    "    \n",
    "    l = []  #建一个空列表，临时存放特征\n",
    "    \n",
    "    #the id    for example:'zzywmcn0jv'\n",
    "    l.append(g[0]) #将id值放入空列表中\n",
    "    \n",
    "    # number of total actions\n",
    "    l.append(len(gr))#将id对应数据的长度放入列表\n",
    "    \n",
    "    #secs_elapsed 特征中的缺失值用0填充再获取具体的停留时长值\n",
    "    sev = gr.secs_elapsed.fillna(0).values   #These values are used later.\n",
    "    \n",
    "    #action features 特征-用户行为 \n",
    "    #每个用户行为出现的次数，各个行为类型的数量，平均值以及标准差\n",
    "    c_act = [0] * len(f_act)\n",
    "    for i,v in enumerate(gr.action.values): #i是从0-1对应的位置，v 是用户行为特征的值\n",
    "        c_act[f_act[v]] += 1\n",
    "    _, c_act_uqc = np.unique(gr.action.values, return_counts=True)\n",
    "    #计算用户行为行为特征各个类型数量的长度，平均值以及标准差\n",
    "    c_act += [len(c_act_uqc), np.mean(c_act_uqc), np.std(c_act_uqc)]\n",
    "    l = l + c_act\n",
    "    \n",
    "    #action_detail features 特征-用户行为具体\n",
    "    #(how many times each value occurs, numb of unique values, mean and std)\n",
    "    c_act_detail = [0] * len(f_act_detail)\n",
    "    for i,v in enumerate(gr.action_detail.values):\n",
    "        c_act_detail[f_act_detail[v]] += 1\n",
    "    _, c_act_det_uqc = np.unique(gr.action_detail.values, return_counts=True)\n",
    "    c_act_detail += [len(c_act_det_uqc), np.mean(c_act_det_uqc), np.std(c_act_det_uqc)]\n",
    "    l = l + c_act_detail\n",
    "    \n",
    "    #action_type features  特征-用户行为类型 click等\n",
    "    #(how many times each value occurs, numb of unique values, mean and std\n",
    "    #+ log of the sum of secs_elapsed for each value)\n",
    "    l_act_type = [0] * len(f_act_type)\n",
    "    c_act_type = [0] * len(f_act_type)\n",
    "    for i,v in enumerate(gr.action_type.values):\n",
    "        l_act_type[f_act_type[v]] += sev[i] #sev = gr.secs_elapsed.fillna(0).values ，求每个行为类型总的停留时长\n",
    "        c_act_type[f_act_type[v]] += 1  \n",
    "    l_act_type = np.log(1 + np.array(l_act_type)).tolist() #每个行为类型总的停留时长，差异比较大，进行log处理\n",
    "    _, c_act_type_uqc = np.unique(gr.action_type.values, return_counts=True)\n",
    "    c_act_type += [len(c_act_type_uqc), np.mean(c_act_type_uqc), np.std(c_act_type_uqc)]\n",
    "    l = l + c_act_type + l_act_type    \n",
    "    \n",
    "    #device_type features 特征-设备类型\n",
    "    #(how many times each value occurs, numb of unique values, mean and std)\n",
    "    c_dev_type  = [0] * len(f_dev_type)\n",
    "    for i,v in enumerate(gr.device_type .values):\n",
    "        c_dev_type[f_dev_type[v]] += 1 \n",
    "    c_dev_type.append(len(np.unique(gr.device_type.values))) \n",
    "    _, c_dev_type_uqc = np.unique(gr.device_type.values, return_counts=True)\n",
    "    c_dev_type += [len(c_dev_type_uqc), np.mean(c_dev_type_uqc), np.std(c_dev_type_uqc)]        \n",
    "    l = l + c_dev_type    \n",
    "    \n",
    "    #secs_elapsed features  特征-停留时长     \n",
    "    l_secs = [0] * 5 \n",
    "    l_log = [0] * 15\n",
    "    if len(sev) > 0:\n",
    "        #Simple statistics about the secs_elapsed values.\n",
    "        l_secs[0] = np.log(1 + np.sum(sev))\n",
    "        l_secs[1] = np.log(1 + np.mean(sev)) \n",
    "        l_secs[2] = np.log(1 + np.std(sev))\n",
    "        l_secs[3] = np.log(1 + np.median(sev))\n",
    "        l_secs[4] = l_secs[0] / float(l[1]) #\n",
    "        \n",
    "        #Values are grouped in 15 intervals. Compute the number of values\n",
    "        #in each interval.\n",
    "        #sev = gr.secs_elapsed.fillna(0).values \n",
    "        log_sev = np.log(1 + sev).astype(int)\n",
    "        #np.bincount():Count number of occurrences of each value in array of non-negative ints.  \n",
    "        l_log = np.bincount(log_sev, minlength=15).tolist()                    \n",
    "    l = l + l_secs + l_log\n",
    "    \n",
    "    #The list l has the feature values of one sample.\n",
    "    samples.append(l)\n",
    "\n",
    "#preparing objects    \n",
    "samples = np.array(samples) \n",
    "samp_ar = samples[:, 1:].astype(np.float16) #取除id外的特征数据\n",
    "samp_id = samples[:, 0]   #取id，id位于第一列\n",
    "\n",
    "#为提取的特征创建一个dataframe     \n",
    "col_names = []    #name of the columns\n",
    "for i in range(len(samples[0])-1):  #减1的原因是因为有个id\n",
    "    col_names.append('c_' + str(i))  #起名字的方式    \n",
    "df_agg_sess = pd.DataFrame(samp_ar, columns=col_names)\n",
    "df_agg_sess['id'] = samp_id\n",
    "df_agg_sess.index = df_agg_sess.id #将id作为index"
   ]
  },
  {
   "cell_type": "code",
   "execution_count": 70,
   "metadata": {},
   "outputs": [
    {
     "data": {
      "text/html": [
       "<div>\n",
       "<style>\n",
       "    .dataframe thead tr:only-child th {\n",
       "        text-align: right;\n",
       "    }\n",
       "\n",
       "    .dataframe thead th {\n",
       "        text-align: left;\n",
       "    }\n",
       "\n",
       "    .dataframe tbody tr th {\n",
       "        vertical-align: top;\n",
       "    }\n",
       "</style>\n",
       "<table border=\"1\" class=\"dataframe\">\n",
       "  <thead>\n",
       "    <tr style=\"text-align: right;\">\n",
       "      <th></th>\n",
       "      <th>c_0</th>\n",
       "      <th>c_1</th>\n",
       "      <th>c_2</th>\n",
       "      <th>c_3</th>\n",
       "      <th>c_4</th>\n",
       "      <th>c_5</th>\n",
       "      <th>c_6</th>\n",
       "      <th>c_7</th>\n",
       "      <th>c_8</th>\n",
       "      <th>c_9</th>\n",
       "      <th>...</th>\n",
       "      <th>c_284</th>\n",
       "      <th>c_285</th>\n",
       "      <th>c_286</th>\n",
       "      <th>c_287</th>\n",
       "      <th>c_288</th>\n",
       "      <th>c_289</th>\n",
       "      <th>c_290</th>\n",
       "      <th>c_291</th>\n",
       "      <th>c_292</th>\n",
       "      <th>id</th>\n",
       "    </tr>\n",
       "    <tr>\n",
       "      <th>id</th>\n",
       "      <th></th>\n",
       "      <th></th>\n",
       "      <th></th>\n",
       "      <th></th>\n",
       "      <th></th>\n",
       "      <th></th>\n",
       "      <th></th>\n",
       "      <th></th>\n",
       "      <th></th>\n",
       "      <th></th>\n",
       "      <th></th>\n",
       "      <th></th>\n",
       "      <th></th>\n",
       "      <th></th>\n",
       "      <th></th>\n",
       "      <th></th>\n",
       "      <th></th>\n",
       "      <th></th>\n",
       "      <th></th>\n",
       "      <th></th>\n",
       "      <th></th>\n",
       "    </tr>\n",
       "  </thead>\n",
       "  <tbody>\n",
       "    <tr>\n",
       "      <th>zzqb2sn066</th>\n",
       "      <td>10.0</td>\n",
       "      <td>0.0</td>\n",
       "      <td>0.0</td>\n",
       "      <td>0.0</td>\n",
       "      <td>0.0</td>\n",
       "      <td>0.0</td>\n",
       "      <td>0.0</td>\n",
       "      <td>0.0</td>\n",
       "      <td>0.0</td>\n",
       "      <td>0.0</td>\n",
       "      <td>...</td>\n",
       "      <td>1.0</td>\n",
       "      <td>2.0</td>\n",
       "      <td>0.0</td>\n",
       "      <td>0.0</td>\n",
       "      <td>1.0</td>\n",
       "      <td>0.0</td>\n",
       "      <td>0.0</td>\n",
       "      <td>1.0</td>\n",
       "      <td>0.0</td>\n",
       "      <td>zzqb2sn066</td>\n",
       "    </tr>\n",
       "    <tr>\n",
       "      <th>zzrnx9rqi5</th>\n",
       "      <td>26.0</td>\n",
       "      <td>0.0</td>\n",
       "      <td>0.0</td>\n",
       "      <td>0.0</td>\n",
       "      <td>0.0</td>\n",
       "      <td>0.0</td>\n",
       "      <td>0.0</td>\n",
       "      <td>0.0</td>\n",
       "      <td>0.0</td>\n",
       "      <td>0.0</td>\n",
       "      <td>...</td>\n",
       "      <td>9.0</td>\n",
       "      <td>3.0</td>\n",
       "      <td>1.0</td>\n",
       "      <td>1.0</td>\n",
       "      <td>5.0</td>\n",
       "      <td>0.0</td>\n",
       "      <td>1.0</td>\n",
       "      <td>1.0</td>\n",
       "      <td>0.0</td>\n",
       "      <td>zzrnx9rqi5</td>\n",
       "    </tr>\n",
       "    <tr>\n",
       "      <th>zzv8sgicbk</th>\n",
       "      <td>25.0</td>\n",
       "      <td>0.0</td>\n",
       "      <td>0.0</td>\n",
       "      <td>0.0</td>\n",
       "      <td>0.0</td>\n",
       "      <td>0.0</td>\n",
       "      <td>0.0</td>\n",
       "      <td>0.0</td>\n",
       "      <td>0.0</td>\n",
       "      <td>0.0</td>\n",
       "      <td>...</td>\n",
       "      <td>5.0</td>\n",
       "      <td>3.0</td>\n",
       "      <td>4.0</td>\n",
       "      <td>3.0</td>\n",
       "      <td>3.0</td>\n",
       "      <td>2.0</td>\n",
       "      <td>1.0</td>\n",
       "      <td>0.0</td>\n",
       "      <td>0.0</td>\n",
       "      <td>zzv8sgicbk</td>\n",
       "    </tr>\n",
       "    <tr>\n",
       "      <th>zzvatt4dio</th>\n",
       "      <td>422.0</td>\n",
       "      <td>0.0</td>\n",
       "      <td>0.0</td>\n",
       "      <td>0.0</td>\n",
       "      <td>0.0</td>\n",
       "      <td>0.0</td>\n",
       "      <td>0.0</td>\n",
       "      <td>0.0</td>\n",
       "      <td>0.0</td>\n",
       "      <td>0.0</td>\n",
       "      <td>...</td>\n",
       "      <td>108.0</td>\n",
       "      <td>79.0</td>\n",
       "      <td>26.0</td>\n",
       "      <td>41.0</td>\n",
       "      <td>32.0</td>\n",
       "      <td>20.0</td>\n",
       "      <td>8.0</td>\n",
       "      <td>3.0</td>\n",
       "      <td>2.0</td>\n",
       "      <td>zzvatt4dio</td>\n",
       "    </tr>\n",
       "    <tr>\n",
       "      <th>zzywmcn0jv</th>\n",
       "      <td>51.0</td>\n",
       "      <td>0.0</td>\n",
       "      <td>0.0</td>\n",
       "      <td>0.0</td>\n",
       "      <td>0.0</td>\n",
       "      <td>0.0</td>\n",
       "      <td>0.0</td>\n",
       "      <td>0.0</td>\n",
       "      <td>0.0</td>\n",
       "      <td>0.0</td>\n",
       "      <td>...</td>\n",
       "      <td>3.0</td>\n",
       "      <td>15.0</td>\n",
       "      <td>5.0</td>\n",
       "      <td>5.0</td>\n",
       "      <td>1.0</td>\n",
       "      <td>3.0</td>\n",
       "      <td>2.0</td>\n",
       "      <td>2.0</td>\n",
       "      <td>0.0</td>\n",
       "      <td>zzywmcn0jv</td>\n",
       "    </tr>\n",
       "  </tbody>\n",
       "</table>\n",
       "<p>5 rows × 294 columns</p>\n",
       "</div>"
      ],
      "text/plain": [
       "              c_0  c_1  c_2  c_3  c_4  c_5  c_6  c_7  c_8  c_9     ...      \\\n",
       "id                                                                 ...       \n",
       "zzqb2sn066   10.0  0.0  0.0  0.0  0.0  0.0  0.0  0.0  0.0  0.0     ...       \n",
       "zzrnx9rqi5   26.0  0.0  0.0  0.0  0.0  0.0  0.0  0.0  0.0  0.0     ...       \n",
       "zzv8sgicbk   25.0  0.0  0.0  0.0  0.0  0.0  0.0  0.0  0.0  0.0     ...       \n",
       "zzvatt4dio  422.0  0.0  0.0  0.0  0.0  0.0  0.0  0.0  0.0  0.0     ...       \n",
       "zzywmcn0jv   51.0  0.0  0.0  0.0  0.0  0.0  0.0  0.0  0.0  0.0     ...       \n",
       "\n",
       "            c_284  c_285  c_286  c_287  c_288  c_289  c_290  c_291  c_292  \\\n",
       "id                                                                          \n",
       "zzqb2sn066    1.0    2.0    0.0    0.0    1.0    0.0    0.0    1.0    0.0   \n",
       "zzrnx9rqi5    9.0    3.0    1.0    1.0    5.0    0.0    1.0    1.0    0.0   \n",
       "zzv8sgicbk    5.0    3.0    4.0    3.0    3.0    2.0    1.0    0.0    0.0   \n",
       "zzvatt4dio  108.0   79.0   26.0   41.0   32.0   20.0    8.0    3.0    2.0   \n",
       "zzywmcn0jv    3.0   15.0    5.0    5.0    1.0    3.0    2.0    2.0    0.0   \n",
       "\n",
       "                    id  \n",
       "id                      \n",
       "zzqb2sn066  zzqb2sn066  \n",
       "zzrnx9rqi5  zzrnx9rqi5  \n",
       "zzv8sgicbk  zzv8sgicbk  \n",
       "zzvatt4dio  zzvatt4dio  \n",
       "zzywmcn0jv  zzywmcn0jv  \n",
       "\n",
       "[5 rows x 294 columns]"
      ]
     },
     "execution_count": 70,
     "metadata": {},
     "output_type": "execute_result"
    }
   ],
   "source": [
    "df_agg_sess.tail()"
   ]
  },
  {
   "cell_type": "code",
   "execution_count": 71,
   "metadata": {},
   "outputs": [
    {
     "data": {
      "text/plain": [
       "(15588, 294)"
      ]
     },
     "execution_count": 71,
     "metadata": {},
     "output_type": "execute_result"
    }
   ],
   "source": [
    "df_agg_sess.shape"
   ]
  },
  {
   "cell_type": "markdown",
   "metadata": {},
   "source": [
    "## 4.2 对trian和test文件进行特征提取"
   ]
  },
  {
   "cell_type": "code",
   "execution_count": 72,
   "metadata": {
    "collapsed": true
   },
   "outputs": [],
   "source": [
    "#计算出train的行数，便于之后对train和test数据进行分离操作\n",
    "train_row = train.shape[0]  \n",
    "\n",
    "# The label we need to predict\n",
    "labels = train['country_destination'].values"
   ]
  },
  {
   "cell_type": "markdown",
   "metadata": {},
   "source": [
    "- 数据探索时我们发现date_first_booking在train和test文件中缺失值太多，故删除\n",
    "- 删除country_destination，用模型预测country_destination，再与已经存储country_destination的labels进行比较，从而判断模型优劣"
   ]
  },
  {
   "cell_type": "code",
   "execution_count": 73,
   "metadata": {
    "collapsed": true
   },
   "outputs": [],
   "source": [
    "train.drop(['country_destination', 'date_first_booking'], axis = 1, inplace = True)\n",
    "test.drop(['date_first_booking'], axis = 1, inplace = True)"
   ]
  },
  {
   "cell_type": "markdown",
   "metadata": {},
   "source": [
    "合并train和test文件\n",
    "- 便于进行相同的特征提取操作"
   ]
  },
  {
   "cell_type": "code",
   "execution_count": 74,
   "metadata": {
    "collapsed": true
   },
   "outputs": [],
   "source": [
    "#连接test 和 train\n",
    "df = pd.concat([train, test], axis = 0, ignore_index = True)"
   ]
  },
  {
   "cell_type": "code",
   "execution_count": 75,
   "metadata": {},
   "outputs": [
    {
     "data": {
      "text/plain": [
       "(275547, 14)"
      ]
     },
     "execution_count": 75,
     "metadata": {},
     "output_type": "execute_result"
    }
   ],
   "source": [
    "df.shape"
   ]
  },
  {
   "cell_type": "markdown",
   "metadata": {},
   "source": [
    "## timestamp_first_active \n",
    "1.1转换为datetime类型"
   ]
  },
  {
   "cell_type": "code",
   "execution_count": 76,
   "metadata": {
    "collapsed": true
   },
   "outputs": [],
   "source": [
    "tfa=df.timestamp_first_active.astype(str).apply(lambda x: datetime.datetime(int(x[:4]),\n",
    "                                                                          int(x[4:6]), \n",
    "                                                                          int(x[6:8]),\n",
    "                                                                          int(x[8:10]),\n",
    "                                                                          int(x[10:12]),\n",
    "                                                                          int(x[12:])))"
   ]
  },
  {
   "cell_type": "markdown",
   "metadata": {},
   "source": [
    "1.2 提取特征：年，月，日"
   ]
  },
  {
   "cell_type": "code",
   "execution_count": 77,
   "metadata": {
    "collapsed": true
   },
   "outputs": [],
   "source": [
    "# create tfa_year, tfa_month, tfa_day feature\n",
    "df['tfa_year'] = np.array([x.year for x in tfa])\n",
    "df['tfa_month'] = np.array([x.month for x in tfa])\n",
    "df['tfa_day'] = np.array([x.day for x in tfa])"
   ]
  },
  {
   "cell_type": "markdown",
   "metadata": {},
   "source": [
    "1.3 提取特征：weekday\n",
    "- 对结果进行one hot encoding编码"
   ]
  },
  {
   "cell_type": "code",
   "execution_count": 78,
   "metadata": {
    "collapsed": true
   },
   "outputs": [],
   "source": [
    "#isoweekday() 可以返回一周的星期几，e.g.星期日：0；星期一：1\n",
    "df['tfa_wd'] = np.array([x.isoweekday() for x in tfa]) \n",
    "df_tfa_wd = pd.get_dummies(df.tfa_wd, prefix = 'tfa_wd')  # one hot encoding \n",
    "df = pd.concat((df, df_tfa_wd), axis = 1) #添加df['tfa_wd'] 编码后的特征\n",
    "df.drop(['tfa_wd'], axis = 1, inplace = True)#删除原有未编码的特征"
   ]
  },
  {
   "cell_type": "markdown",
   "metadata": {},
   "source": [
    "1.4 提取特征：季节\n",
    "- 因为判断季节关注的是月份，故对年份进行统一"
   ]
  },
  {
   "cell_type": "code",
   "execution_count": 79,
   "metadata": {
    "collapsed": true
   },
   "outputs": [],
   "source": [
    "Y = 2000\n",
    "seasons = [(0, (date(Y,  1,  1),  date(Y,  3, 20))),  #'winter'\n",
    "           (1, (date(Y,  3, 21),  date(Y,  6, 20))),  #'spring'\n",
    "           (2, (date(Y,  6, 21),  date(Y,  9, 22))),  #'summer'\n",
    "           (3, (date(Y,  9, 23),  date(Y, 12, 20))),  #'autumn'\n",
    "           (0, (date(Y, 12, 21),  date(Y, 12, 31)))]  #'winter'\n",
    "\n",
    "def get_season(dt):\n",
    "    dt = dt.date() #获取日期\n",
    "    dt = dt.replace(year=Y) #将年统一换成2000年\n",
    "    return next(season for season, (start, end) in seasons if start <= dt <= end)\n",
    "\n",
    "df['tfa_season'] = np.array([get_season(x) for x in tfa])\n",
    "df_tfa_season = pd.get_dummies(df.tfa_season, prefix = 'tfa_season') # one hot encoding \n",
    "df = pd.concat((df, df_tfa_season), axis = 1)\n",
    "df.drop(['tfa_season'], axis = 1, inplace = True)"
   ]
  },
  {
   "cell_type": "markdown",
   "metadata": {},
   "source": [
    "## 2. date_account_created\n",
    "2.1 将date_account_created转换为datetime类型"
   ]
  },
  {
   "cell_type": "code",
   "execution_count": 80,
   "metadata": {
    "collapsed": true
   },
   "outputs": [],
   "source": [
    "dac = pd.to_datetime(df.date_account_created)"
   ]
  },
  {
   "cell_type": "markdown",
   "metadata": {},
   "source": [
    "2.2 提取特征：年，月，日"
   ]
  },
  {
   "cell_type": "code",
   "execution_count": 81,
   "metadata": {
    "collapsed": true
   },
   "outputs": [],
   "source": [
    "# create year, month, day feature for dac\n",
    "\n",
    "df['dac_year'] = np.array([x.year for x in dac])\n",
    "df['dac_month'] = np.array([x.month for x in dac])\n",
    "df['dac_day'] = np.array([x.day for x in dac])"
   ]
  },
  {
   "cell_type": "markdown",
   "metadata": {},
   "source": [
    "2.3 提取特征：weekday"
   ]
  },
  {
   "cell_type": "code",
   "execution_count": 82,
   "metadata": {
    "collapsed": true
   },
   "outputs": [],
   "source": [
    "# create features of weekday for dac\n",
    "\n",
    "df['dac_wd'] = np.array([x.isoweekday() for x in dac])\n",
    "df_dac_wd = pd.get_dummies(df.dac_wd, prefix = 'dac_wd')\n",
    "df = pd.concat((df, df_dac_wd), axis = 1)\n",
    "df.drop(['dac_wd'], axis = 1, inplace = True)"
   ]
  },
  {
   "cell_type": "markdown",
   "metadata": {},
   "source": [
    "2.4 提取特征：季节"
   ]
  },
  {
   "cell_type": "code",
   "execution_count": 83,
   "metadata": {
    "collapsed": true
   },
   "outputs": [],
   "source": [
    "# create season features fro dac\n",
    "\n",
    "df['dac_season'] = np.array([get_season(x) for x in dac])\n",
    "df_dac_season = pd.get_dummies(df.dac_season, prefix = 'dac_season')\n",
    "df = pd.concat((df, df_dac_season), axis = 1)\n",
    "df.drop(['dac_season'], axis = 1, inplace = True)"
   ]
  },
  {
   "cell_type": "markdown",
   "metadata": {},
   "source": [
    "2.5提取特征：date_account_created和timestamp_first_active之间的差值\n",
    "- 即用户在airbnb平台活跃到正式注册所花的时间"
   ]
  },
  {
   "cell_type": "code",
   "execution_count": 84,
   "metadata": {
    "collapsed": true
   },
   "outputs": [],
   "source": [
    "dt_span = dac.subtract(tfa).dt.days "
   ]
  },
  {
   "cell_type": "code",
   "execution_count": 85,
   "metadata": {},
   "outputs": [
    {
     "data": {
      "text/plain": [
       "-1     275369\n",
       " 0          7\n",
       " 6          4\n",
       " 5          4\n",
       " 1          4\n",
       " 2          3\n",
       " 3          3\n",
       " 4          3\n",
       " 28         3\n",
       " 94         2\n",
       "dtype: int64"
      ]
     },
     "execution_count": 85,
     "metadata": {},
     "output_type": "execute_result"
    }
   ],
   "source": [
    "dt_span.value_counts().head(10)"
   ]
  },
  {
   "cell_type": "markdown",
   "metadata": {},
   "source": [
    "分析：数据主要集中在-1，可以猜测，用户当天注册dt_span值便是-1\n",
    "\n",
    "    从差值提取特征：差值为一天，一月，一年和其他\n",
    "    即用户活跃到注册花费的时间为一天，一月，一年或其他"
   ]
  },
  {
   "cell_type": "code",
   "execution_count": 86,
   "metadata": {
    "collapsed": true
   },
   "outputs": [],
   "source": [
    "# create categorical feature: span = -1; -1 < span < 30; 31 < span < 365; span > 365\n",
    "def get_span(dt):\n",
    "    # dt is an integer\n",
    "    if dt == -1:\n",
    "        return 'OneDay'\n",
    "    elif (dt < 30) & (dt > -1):\n",
    "        return 'OneMonth'\n",
    "    elif (dt >= 30) & (dt <= 365):\n",
    "        return 'OneYear'\n",
    "    else:\n",
    "        return 'other'\n",
    "\n",
    "df['dt_span'] = np.array([get_span(x) for x in dt_span])\n",
    "df_dt_span = pd.get_dummies(df.dt_span, prefix = 'dt_span')\n",
    "df = pd.concat((df, df_dt_span), axis = 1)\n",
    "df.drop(['dt_span'], axis = 1, inplace = True)"
   ]
  },
  {
   "cell_type": "code",
   "execution_count": 87,
   "metadata": {
    "collapsed": true
   },
   "outputs": [],
   "source": [
    "#对timestamp_first_active，date_account_created进行特征提取后，从特征列表中删除原有的特征\n",
    "df.drop(['date_account_created','timestamp_first_active'], axis = 1, inplace = True)"
   ]
  },
  {
   "cell_type": "markdown",
   "metadata": {},
   "source": [
    "## age"
   ]
  },
  {
   "cell_type": "code",
   "execution_count": 88,
   "metadata": {
    "collapsed": true
   },
   "outputs": [],
   "source": [
    "#Age 获取年龄\n",
    "av = df.age.values"
   ]
  },
  {
   "cell_type": "markdown",
   "metadata": {},
   "source": [
    "在数据探索阶段，我们发现大部分数据是集中在（15，90）区间的，但有部分年龄分布在（1900，2000）区间，我们猜测用户是把出生日期误填为年龄，故进行预处理"
   ]
  },
  {
   "cell_type": "code",
   "execution_count": 89,
   "metadata": {},
   "outputs": [
    {
     "name": "stderr",
     "output_type": "stream",
     "text": [
      "C:\\ProgramData\\Anaconda3\\lib\\site-packages\\ipykernel_launcher.py:3: RuntimeWarning: invalid value encountered in less\n",
      "  This is separate from the ipykernel package so we can avoid doing imports until\n",
      "C:\\ProgramData\\Anaconda3\\lib\\site-packages\\ipykernel_launcher.py:3: RuntimeWarning: invalid value encountered in greater\n",
      "  This is separate from the ipykernel package so we can avoid doing imports until\n"
     ]
    }
   ],
   "source": [
    "#This are birthdays instead of age (estimating age by doing 2014 - value)\n",
    "#数据来自2014年，故用2014-value\n",
    "av = np.where(np.logical_and(av<2000, av>1900), 2014-av, av) \n",
    "df['age'] = av"
   ]
  },
  {
   "cell_type": "markdown",
   "metadata": {},
   "source": [
    "3.1 将年龄进行分段"
   ]
  },
  {
   "cell_type": "code",
   "execution_count": 90,
   "metadata": {
    "collapsed": true
   },
   "outputs": [],
   "source": [
    "# Age has many abnormal values that we need to deal with. \n",
    "age = df.age\n",
    "age.fillna(-1, inplace = True) #空值填充为-1\n",
    "div = 15\n",
    "def get_age(age):\n",
    "    # age is a float number  将连续型转换为离散型\n",
    "    if age < 0:\n",
    "        return 'NA' #表示是空值\n",
    "    elif (age < div):\n",
    "        return div #如果年龄小于15岁，那么返回15岁\n",
    "    elif (age <= div * 2):\n",
    "        return div*2 #如果年龄大于15小于等于30岁，则返回30岁\n",
    "    elif (age <= div * 3):\n",
    "        return div * 3\n",
    "    elif (age <= div * 4):\n",
    "        return div * 4\n",
    "    elif (age <= div * 5):\n",
    "        return div * 5\n",
    "    elif (age <= 110):\n",
    "        return div * 6\n",
    "    else:\n",
    "        return 'Unphysical' #非正常年龄"
   ]
  },
  {
   "cell_type": "code",
   "execution_count": 91,
   "metadata": {
    "collapsed": true
   },
   "outputs": [],
   "source": [
    "#将分段后的年龄作为新的特征放入特征列表中\n",
    "df['age'] = np.array([get_age(x) for x in age])\n",
    "df_age = pd.get_dummies(df.age, prefix = 'age')\n",
    "df = pd.concat((df, df_age), axis = 1)\n",
    "df.drop(['age'], axis = 1, inplace = True)"
   ]
  },
  {
   "cell_type": "markdown",
   "metadata": {},
   "source": [
    "## 4. 其他特征\n",
    "在数据探索时，我们发现剩余的特征lables都比较少，故不进一步进行特征提取，只进行one-hot-encoding处理"
   ]
  },
  {
   "cell_type": "code",
   "execution_count": 92,
   "metadata": {
    "collapsed": true
   },
   "outputs": [],
   "source": [
    "feat_toOHE = ['gender', \n",
    "             'signup_method', \n",
    "             'signup_flow', \n",
    "             'language', \n",
    "             'affiliate_channel', \n",
    "             'affiliate_provider', \n",
    "             'first_affiliate_tracked', \n",
    "             'signup_app', \n",
    "             'first_device_type', \n",
    "             'first_browser']\n",
    "#对其他特征进行one-hot-encoding处理\n",
    "for f in feat_toOHE:\n",
    "    df_ohe = pd.get_dummies(df[f], prefix=f, dummy_na=True)\n",
    "    df.drop([f], axis = 1, inplace = True)\n",
    "    df = pd.concat((df, df_ohe), axis = 1)"
   ]
  },
  {
   "cell_type": "markdown",
   "metadata": {},
   "source": [
    "## 4.3 整合提取的所有特征\n",
    "\n",
    "    我们将对session以及train，test文件中提取的特征进行合并\n"
   ]
  },
  {
   "cell_type": "code",
   "execution_count": 93,
   "metadata": {
    "collapsed": true
   },
   "outputs": [],
   "source": [
    "#将对session提取的特征整合到一起\n",
    "df_all = pd.merge(df, df_agg_sess, how='left')\n",
    "df_all = df_all.drop(['id'], axis=1) #删除id\n",
    "df_all = df_all.fillna(-2)  #对没有sesssion data的特征进行缺失值处理\n",
    "\n",
    "#加了一列，表示每一行总共有多少空值，这也作为一个特征\n",
    "df_all['all_null'] = np.array([sum(r<0) for r in df_all.values]) "
   ]
  },
  {
   "cell_type": "markdown",
   "metadata": {},
   "source": [
    "# 5. 模型构建"
   ]
  },
  {
   "cell_type": "markdown",
   "metadata": {},
   "source": [
    "5.1 数据准备\n",
    "1. 将train和test数据进行分离操作\n",
    "2. train_row是之前记录的train数据行数"
   ]
  },
  {
   "cell_type": "code",
   "execution_count": 94,
   "metadata": {
    "collapsed": true
   },
   "outputs": [],
   "source": [
    "Xtrain = df_all.iloc[:train_row, :]\n",
    "Xtest = df_all.iloc[train_row:, :]"
   ]
  },
  {
   "cell_type": "markdown",
   "metadata": {},
   "source": [
    "2. 将提取的特征生成csv文件"
   ]
  },
  {
   "cell_type": "code",
   "execution_count": 95,
   "metadata": {
    "collapsed": true
   },
   "outputs": [],
   "source": [
    "Xtrain.to_csv(\"Airbnb_xtrain_v2.csv\")\n",
    "Xtest.to_csv(\"Airbnb_xtest_v2.csv\")\n",
    "#labels.tofile（）：Write array to a file as text or binary (default)\n",
    "labels.tofile(\"Airbnb_ytrain_v2.csv\", sep='\\n', format='%s') #存放目标变量"
   ]
  },
  {
   "cell_type": "code",
   "execution_count": 96,
   "metadata": {},
   "outputs": [
    {
     "data": {
      "text/html": [
       "<div>\n",
       "<style>\n",
       "    .dataframe thead tr:only-child th {\n",
       "        text-align: right;\n",
       "    }\n",
       "\n",
       "    .dataframe thead th {\n",
       "        text-align: left;\n",
       "    }\n",
       "\n",
       "    .dataframe tbody tr th {\n",
       "        vertical-align: top;\n",
       "    }\n",
       "</style>\n",
       "<table border=\"1\" class=\"dataframe\">\n",
       "  <thead>\n",
       "    <tr style=\"text-align: right;\">\n",
       "      <th></th>\n",
       "      <th>tfa_year</th>\n",
       "      <th>tfa_month</th>\n",
       "      <th>tfa_day</th>\n",
       "      <th>tfa_wd_1</th>\n",
       "      <th>tfa_wd_2</th>\n",
       "      <th>tfa_wd_3</th>\n",
       "      <th>tfa_wd_4</th>\n",
       "      <th>tfa_wd_5</th>\n",
       "      <th>tfa_wd_6</th>\n",
       "      <th>tfa_wd_7</th>\n",
       "      <th>...</th>\n",
       "      <th>c_284</th>\n",
       "      <th>c_285</th>\n",
       "      <th>c_286</th>\n",
       "      <th>c_287</th>\n",
       "      <th>c_288</th>\n",
       "      <th>c_289</th>\n",
       "      <th>c_290</th>\n",
       "      <th>c_291</th>\n",
       "      <th>c_292</th>\n",
       "      <th>all_null</th>\n",
       "    </tr>\n",
       "  </thead>\n",
       "  <tbody>\n",
       "    <tr>\n",
       "      <th>0</th>\n",
       "      <td>2009</td>\n",
       "      <td>3</td>\n",
       "      <td>19</td>\n",
       "      <td>0</td>\n",
       "      <td>0</td>\n",
       "      <td>0</td>\n",
       "      <td>1</td>\n",
       "      <td>0</td>\n",
       "      <td>0</td>\n",
       "      <td>0</td>\n",
       "      <td>...</td>\n",
       "      <td>-2.0</td>\n",
       "      <td>-2.0</td>\n",
       "      <td>-2.0</td>\n",
       "      <td>-2.0</td>\n",
       "      <td>-2.0</td>\n",
       "      <td>-2.0</td>\n",
       "      <td>-2.0</td>\n",
       "      <td>-2.0</td>\n",
       "      <td>-2.0</td>\n",
       "      <td>293</td>\n",
       "    </tr>\n",
       "    <tr>\n",
       "      <th>1</th>\n",
       "      <td>2009</td>\n",
       "      <td>5</td>\n",
       "      <td>23</td>\n",
       "      <td>0</td>\n",
       "      <td>0</td>\n",
       "      <td>0</td>\n",
       "      <td>0</td>\n",
       "      <td>0</td>\n",
       "      <td>1</td>\n",
       "      <td>0</td>\n",
       "      <td>...</td>\n",
       "      <td>-2.0</td>\n",
       "      <td>-2.0</td>\n",
       "      <td>-2.0</td>\n",
       "      <td>-2.0</td>\n",
       "      <td>-2.0</td>\n",
       "      <td>-2.0</td>\n",
       "      <td>-2.0</td>\n",
       "      <td>-2.0</td>\n",
       "      <td>-2.0</td>\n",
       "      <td>293</td>\n",
       "    </tr>\n",
       "    <tr>\n",
       "      <th>2</th>\n",
       "      <td>2009</td>\n",
       "      <td>6</td>\n",
       "      <td>9</td>\n",
       "      <td>0</td>\n",
       "      <td>1</td>\n",
       "      <td>0</td>\n",
       "      <td>0</td>\n",
       "      <td>0</td>\n",
       "      <td>0</td>\n",
       "      <td>0</td>\n",
       "      <td>...</td>\n",
       "      <td>-2.0</td>\n",
       "      <td>-2.0</td>\n",
       "      <td>-2.0</td>\n",
       "      <td>-2.0</td>\n",
       "      <td>-2.0</td>\n",
       "      <td>-2.0</td>\n",
       "      <td>-2.0</td>\n",
       "      <td>-2.0</td>\n",
       "      <td>-2.0</td>\n",
       "      <td>293</td>\n",
       "    </tr>\n",
       "    <tr>\n",
       "      <th>3</th>\n",
       "      <td>2009</td>\n",
       "      <td>10</td>\n",
       "      <td>31</td>\n",
       "      <td>0</td>\n",
       "      <td>0</td>\n",
       "      <td>0</td>\n",
       "      <td>0</td>\n",
       "      <td>0</td>\n",
       "      <td>1</td>\n",
       "      <td>0</td>\n",
       "      <td>...</td>\n",
       "      <td>-2.0</td>\n",
       "      <td>-2.0</td>\n",
       "      <td>-2.0</td>\n",
       "      <td>-2.0</td>\n",
       "      <td>-2.0</td>\n",
       "      <td>-2.0</td>\n",
       "      <td>-2.0</td>\n",
       "      <td>-2.0</td>\n",
       "      <td>-2.0</td>\n",
       "      <td>293</td>\n",
       "    </tr>\n",
       "    <tr>\n",
       "      <th>4</th>\n",
       "      <td>2009</td>\n",
       "      <td>12</td>\n",
       "      <td>8</td>\n",
       "      <td>0</td>\n",
       "      <td>1</td>\n",
       "      <td>0</td>\n",
       "      <td>0</td>\n",
       "      <td>0</td>\n",
       "      <td>0</td>\n",
       "      <td>0</td>\n",
       "      <td>...</td>\n",
       "      <td>-2.0</td>\n",
       "      <td>-2.0</td>\n",
       "      <td>-2.0</td>\n",
       "      <td>-2.0</td>\n",
       "      <td>-2.0</td>\n",
       "      <td>-2.0</td>\n",
       "      <td>-2.0</td>\n",
       "      <td>-2.0</td>\n",
       "      <td>-2.0</td>\n",
       "      <td>293</td>\n",
       "    </tr>\n",
       "  </tbody>\n",
       "</table>\n",
       "<p>5 rows × 497 columns</p>\n",
       "</div>"
      ],
      "text/plain": [
       "   tfa_year  tfa_month  tfa_day  tfa_wd_1  tfa_wd_2  tfa_wd_3  tfa_wd_4  \\\n",
       "0      2009          3       19         0         0         0         1   \n",
       "1      2009          5       23         0         0         0         0   \n",
       "2      2009          6        9         0         1         0         0   \n",
       "3      2009         10       31         0         0         0         0   \n",
       "4      2009         12        8         0         1         0         0   \n",
       "\n",
       "   tfa_wd_5  tfa_wd_6  tfa_wd_7    ...     c_284  c_285  c_286  c_287  c_288  \\\n",
       "0         0         0         0    ...      -2.0   -2.0   -2.0   -2.0   -2.0   \n",
       "1         0         1         0    ...      -2.0   -2.0   -2.0   -2.0   -2.0   \n",
       "2         0         0         0    ...      -2.0   -2.0   -2.0   -2.0   -2.0   \n",
       "3         0         1         0    ...      -2.0   -2.0   -2.0   -2.0   -2.0   \n",
       "4         0         0         0    ...      -2.0   -2.0   -2.0   -2.0   -2.0   \n",
       "\n",
       "   c_289  c_290  c_291  c_292  all_null  \n",
       "0   -2.0   -2.0   -2.0   -2.0       293  \n",
       "1   -2.0   -2.0   -2.0   -2.0       293  \n",
       "2   -2.0   -2.0   -2.0   -2.0       293  \n",
       "3   -2.0   -2.0   -2.0   -2.0       293  \n",
       "4   -2.0   -2.0   -2.0   -2.0       293  \n",
       "\n",
       "[5 rows x 497 columns]"
      ]
     },
     "execution_count": 96,
     "metadata": {},
     "output_type": "execute_result"
    }
   ],
   "source": [
    "#读取特征文件\n",
    "xtrain = pd.read_csv(\"Airbnb_xtrain_v2.csv\",index_col=0)\n",
    "ytrain = pd.read_csv(\"Airbnb_ytrain_v2.csv\", header=None)\n",
    "xtrain.head()"
   ]
  },
  {
   "cell_type": "code",
   "execution_count": 97,
   "metadata": {},
   "outputs": [
    {
     "data": {
      "text/html": [
       "<div>\n",
       "<style>\n",
       "    .dataframe thead tr:only-child th {\n",
       "        text-align: right;\n",
       "    }\n",
       "\n",
       "    .dataframe thead th {\n",
       "        text-align: left;\n",
       "    }\n",
       "\n",
       "    .dataframe tbody tr th {\n",
       "        vertical-align: top;\n",
       "    }\n",
       "</style>\n",
       "<table border=\"1\" class=\"dataframe\">\n",
       "  <thead>\n",
       "    <tr style=\"text-align: right;\">\n",
       "      <th></th>\n",
       "      <th>0</th>\n",
       "    </tr>\n",
       "  </thead>\n",
       "  <tbody>\n",
       "    <tr>\n",
       "      <th>0</th>\n",
       "      <td>NDF</td>\n",
       "    </tr>\n",
       "    <tr>\n",
       "      <th>1</th>\n",
       "      <td>NDF</td>\n",
       "    </tr>\n",
       "    <tr>\n",
       "      <th>2</th>\n",
       "      <td>US</td>\n",
       "    </tr>\n",
       "    <tr>\n",
       "      <th>3</th>\n",
       "      <td>other</td>\n",
       "    </tr>\n",
       "    <tr>\n",
       "      <th>4</th>\n",
       "      <td>US</td>\n",
       "    </tr>\n",
       "  </tbody>\n",
       "</table>\n",
       "</div>"
      ],
      "text/plain": [
       "       0\n",
       "0    NDF\n",
       "1    NDF\n",
       "2     US\n",
       "3  other\n",
       "4     US"
      ]
     },
     "execution_count": 97,
     "metadata": {},
     "output_type": "execute_result"
    }
   ],
   "source": [
    "ytrain.head()"
   ]
  },
  {
   "cell_type": "markdown",
   "metadata": {},
   "source": [
    "3. 将目标变量进行labels encoding"
   ]
  },
  {
   "cell_type": "code",
   "execution_count": 98,
   "metadata": {},
   "outputs": [
    {
     "name": "stderr",
     "output_type": "stream",
     "text": [
      "C:\\ProgramData\\Anaconda3\\lib\\site-packages\\sklearn\\preprocessing\\label.py:111: DataConversionWarning: A column-vector y was passed when a 1d array was expected. Please change the shape of y to (n_samples, ), for example using ravel().\n",
      "  y = column_or_1d(y, warn=True)\n"
     ]
    }
   ],
   "source": [
    "le = LabelEncoder()\n",
    "ytrain_le = le.fit_transform(ytrain.values)"
   ]
  },
  {
   "cell_type": "code",
   "execution_count": 99,
   "metadata": {},
   "outputs": [
    {
     "data": {
      "text/plain": [
       "array([ 7,  7, 10, ...,  7,  7,  7], dtype=int64)"
      ]
     },
     "execution_count": 99,
     "metadata": {},
     "output_type": "execute_result"
    }
   ],
   "source": [
    "ytrain_le"
   ]
  },
  {
   "cell_type": "markdown",
   "metadata": {},
   "source": [
    "4. 提取10%的数据进行模型训练\n",
    "\n",
    "    减少训练模型花费的时间"
   ]
  },
  {
   "cell_type": "code",
   "execution_count": 100,
   "metadata": {
    "collapsed": true
   },
   "outputs": [],
   "source": [
    "# Let us take 10% of the data for faster training. \n",
    "n = int(xtrain.shape[0]*0.1)\n",
    "xtrain_new = xtrain.iloc[:n, :]  #训练数据\n",
    "ytrain_new = ytrain_le[:n]       #训练数据的目标变量"
   ]
  },
  {
   "cell_type": "markdown",
   "metadata": {},
   "source": [
    "## 5. StandardScaling the dataset\n",
    "- Standardization of a dataset is a common requirement for many machine learning estimators: they might behave badly if the individual feature do not more or less look like standard normally distributed data (e.g. Gaussian with 0 mean and unit variance)"
   ]
  },
  {
   "cell_type": "code",
   "execution_count": 101,
   "metadata": {
    "collapsed": true
   },
   "outputs": [],
   "source": [
    "X_scaler = StandardScaler()\n",
    "xtrain_new = X_scaler.fit_transform(xtrain_new)"
   ]
  },
  {
   "cell_type": "markdown",
   "metadata": {},
   "source": [
    "### 5.2 评分模型：NDCG\n",
    "\n",
    "- NDCG是一种衡量排序质量的评价指标，该指标考虑了所有元素的相关性\n",
    "- 由于我们预测的目标变量并不是二分类变量，故我们用NDGG模型来进行模型评分，判断模型优劣\n",
    "- 一般二分类变量: 我们习惯于使用 f1 score, precision, recall, auc score来进行模型评分\n"
   ]
  },
  {
   "cell_type": "code",
   "execution_count": 102,
   "metadata": {
    "collapsed": true
   },
   "outputs": [],
   "source": [
    "from sklearn.metrics import make_scorer\n",
    "\n",
    "def dcg_score(y_true, y_score, k=5):\n",
    "    \n",
    "    \"\"\"\n",
    "    y_true : array, shape = [n_samples] #数据\n",
    "        Ground truth (true relevance labels).\n",
    "    y_score : array, shape = [n_samples, n_classes] #预测的分数\n",
    "        Predicted scores.\n",
    "    k : int\n",
    "    \"\"\"\n",
    "    order = np.argsort(y_score)[::-1] #分数从高到低排序\n",
    "    y_true = np.take(y_true, order[:k]) #取出前k[0,k）个分数\n",
    "      \n",
    "    gain = 2 ** y_true - 1   \n",
    "\n",
    "    discounts = np.log2(np.arange(len(y_true)) + 2)\n",
    "    return np.sum(gain / discounts)\n",
    "  \n",
    "\n",
    "def ndcg_score(ground_truth, predictions, k=5):   \n",
    "\n",
    "    \"\"\"\n",
    "    Parameters\n",
    "    ----------\n",
    "    ground_truth : array, shape = [n_samples]\n",
    "        Ground truth (true labels represended as integers).\n",
    "    predictions : array, shape = [n_samples, n_classes] \n",
    "        Predicted probabilities. 预测的概率\n",
    "    k : int\n",
    "        Rank.\n",
    "    \"\"\"\n",
    "    lb = LabelBinarizer()\n",
    "    lb.fit(range(len(predictions) + 1))\n",
    "    T = lb.transform(ground_truth)    \n",
    "    scores = []\n",
    "    # Iterate over each y_true and compute the DCG score\n",
    "    for y_true, y_score in zip(T, predictions):\n",
    "        actual = dcg_score(y_true, y_score, k)\n",
    "        best = dcg_score(y_true, y_true, k)\n",
    "        score = float(actual) / float(best)\n",
    "        scores.append(score)\n",
    "\n",
    "    return np.mean(scores)"
   ]
  },
  {
   "cell_type": "markdown",
   "metadata": {},
   "source": [
    "## 6. 构建模型\n",
    "### 6.1 Logistic Regression"
   ]
  },
  {
   "cell_type": "code",
   "execution_count": 103,
   "metadata": {
    "collapsed": true
   },
   "outputs": [],
   "source": [
    "from sklearn.linear_model import LogisticRegression\n",
    "from sklearn.model_selection import KFold\n",
    "from sklearn.model_selection import cross_val_score\n",
    "from sklearn.model_selection import train_test_split"
   ]
  },
  {
   "cell_type": "code",
   "execution_count": 104,
   "metadata": {},
   "outputs": [
    {
     "name": "stdout",
     "output_type": "stream",
     "text": [
      "\n",
      "The training score is:0.7595157690333219\n",
      "\n",
      "The cv score is :0.7417455860527811\n"
     ]
    }
   ],
   "source": [
    "lr = LogisticRegression(C = 1.0, penalty='l2', multi_class='ovr')\n",
    "RANDOM_STATE = 2019 #随机种子\n",
    "\n",
    "#k-fold cross validation(k-折叠交叉验证)\n",
    "kf=KFold(n_splits=5,random_state=RANDOM_STATE) # 分成5个组\n",
    "train_score=[]\n",
    "cv_score=[]\n",
    "\n",
    "#select a k \n",
    "k_ndcg = 3\n",
    "#kf.split:Generate indices to split data into training and test set.\n",
    "for train_index,test_index in kf.split(xtrain_new,ytrain_new):\n",
    "    #训练集数据分割为训练集和测试集，y是目标变量\n",
    "    X_train,X_test=xtrain_new[train_index,:],xtrain_new[test_index,:]\n",
    "    y_train,y_test=ytrain_new[train_index],ytrain_new[test_index]\n",
    "    \n",
    "    lr.fit(X_train,y_train)\n",
    "    \n",
    "    y_pred = lr.predict_proba(X_test)\n",
    "    train_ndcg_score = ndcg_score(y_train,lr.predict_proba(X_train),k=k_ndcg)\n",
    "    cv_ndcg_score = ndcg_score(y_test,y_pred,k=k_ndcg)\n",
    "    \n",
    "    train_score.append(train_ndcg_score)\n",
    "    cv_score.append(cv_ndcg_score)\n",
    "\n",
    "print(\"\\nThe training score is:{}\".format(np.mean(train_score)))\n",
    "print(\"\\nThe cv score is :{}\".format(np.mean(cv_score)))"
   ]
  },
  {
   "cell_type": "markdown",
   "metadata": {},
   "source": [
    "learning curve of logistic regression\n",
    "\n",
    "    观察逻辑回归模型学习曲线的变化\n",
    "    1. 改变逻辑回归参数iteration\n"
   ]
  },
  {
   "cell_type": "code",
   "execution_count": 105,
   "metadata": {},
   "outputs": [
    {
     "name": "stderr",
     "output_type": "stream",
     "text": [
      "C:\\ProgramData\\Anaconda3\\lib\\site-packages\\sklearn\\utils\\optimize.py:203: ConvergenceWarning: newton-cg failed to converge. Increase the number of iterations.\n",
      "  \"number of iterations.\", ConvergenceWarning)\n"
     ]
    }
   ],
   "source": [
    "#set the iterations\n",
    "iteration =[1,5,10,15,20,50,100]\n",
    "\n",
    "kf=KFold(n_splits=3,random_state=RANDOM_STATE)\n",
    "\n",
    "train_score=[]\n",
    "cv_score=[]\n",
    "\n",
    "#select a k:\n",
    "k_ndcg=5\n",
    "\n",
    "for i,item in enumerate(iteration):\n",
    "    lr = LogisticRegression(C=1.0,max_iter=item,tol=1e-5,solver='newton-cg',multi_class='ovr')\n",
    "    train_score_iter = []\n",
    "    cv_score_iter = []\n",
    "    \n",
    "    for train_index,test_index in kf.split(xtrain_new,ytrain_new):\n",
    "        X_train,X_test = xtrain_new[train_index,:],xtrain_new[test_index,:]\n",
    "        y_train,y_test = ytrain_new[train_index],ytrain_new[test_index]\n",
    "        \n",
    "        lr.fit(X_train,y_train)\n",
    "        \n",
    "        y_pred = lr.predict_proba(X_test)\n",
    "        train_ndcg_score = ndcg_score(y_train,lr.predict_proba(X_train),k = k_ndcg)\n",
    "        cv_ndcg_score = ndcg_score(y_test,y_pred,k=k_ndcg)\n",
    "        \n",
    "        train_score_iter.append(train_ndcg_score)\n",
    "        cv_score_iter.append(cv_ndcg_score)\n",
    "    \n",
    "    train_score.append(np.mean(train_score_iter))\n",
    "    cv_score.append(np.mean(cv_score_iter))"
   ]
  },
  {
   "cell_type": "code",
   "execution_count": 106,
   "metadata": {
    "scrolled": true
   },
   "outputs": [
    {
     "data": {
      "image/png": "[encoded data removed]",
      "text/plain": [
       "<matplotlib.figure.Figure at 0x20c13feeef0>"
      ]
     },
     "metadata": {},
     "output_type": "display_data"
    }
   ],
   "source": [
    "ymin=np.min(cv_score)-0.05\n",
    "ymax = np.max(train_score)+0.05\n",
    "\n",
    "plt.figure(figsize=(9,4))\n",
    "plt.plot(iteration,train_score,'ro-',label='training')\n",
    "plt.plot(iteration,cv_score,'b*-',label='Cross-validation')\n",
    "plt.xlabel('iterations')\n",
    "plt.ylabel('Score')\n",
    "plt.xlim(-5,np.max(iteration)+10)\n",
    "plt.ylim(ymin,ymax)\n",
    "plt.plot(np.linspace(20,20,50),np.linspace(ymin,ymax,50),'g--')\n",
    "plt.legend(loc='lower right',fontsize=12)\n",
    "plt.title(\"Score vs iteration learning curve\")\n",
    "plt.tight_layout()"
   ]
  },
  {
   "cell_type": "markdown",
   "metadata": {},
   "source": [
    "分析：随着iteration的增大，逻辑回归模型的评分在不断升高，当iteration超过20的时候，模型的评分基本不变"
   ]
  },
  {
   "cell_type": "markdown",
   "metadata": {},
   "source": [
    "2. 改变数据量大小"
   ]
  },
  {
   "cell_type": "code",
   "execution_count": 107,
   "metadata": {},
   "outputs": [
    {
     "name": "stdout",
     "output_type": "stream",
     "text": [
      "(142, 497) (71, 497)\n",
      "(142, 497) (71, 497)\n"
     ]
    },
    {
     "name": "stderr",
     "output_type": "stream",
     "text": [
      "C:\\ProgramData\\Anaconda3\\lib\\site-packages\\sklearn\\utils\\optimize.py:203: ConvergenceWarning: newton-cg failed to converge. Increase the number of iterations.\n",
      "  \"number of iterations.\", ConvergenceWarning)\n"
     ]
    },
    {
     "name": "stdout",
     "output_type": "stream",
     "text": [
      "(142, 497) (71, 497)\n",
      "(284, 497) (142, 497)\n",
      "(284, 497) (142, 497)\n",
      "(284, 497) (142, 497)\n",
      "(711, 497) (356, 497)\n",
      "(711, 497) (356, 497)\n",
      "(712, 497) (355, 497)\n",
      "(1422, 497) (712, 497)\n",
      "(1423, 497) (711, 497)\n",
      "(1423, 497) (711, 497)\n",
      "(2846, 497) (1423, 497)\n",
      "(2846, 497) (1423, 497)\n",
      "(2846, 497) (1423, 497)\n",
      "(7114, 497) (3558, 497)\n",
      "(7115, 497) (3557, 497)\n",
      "(7115, 497) (3557, 497)\n",
      "(14230, 497) (7115, 497)\n",
      "(14230, 497) (7115, 497)\n",
      "(14230, 497) (7115, 497)\n"
     ]
    }
   ],
   "source": [
    "# Chaning the sampling size\n",
    "# set the iter to the best iteration: iter = 20\n",
    "\n",
    "perc = [0.01,0.02,0.05,0.1,0.2,0.5,1]\n",
    "\n",
    "kf = KFold(n_splits=3, random_state=RANDOM_STATE)\n",
    "\n",
    "train_score = []\n",
    "cv_score = []\n",
    "\n",
    "# select a k:\n",
    "k_ndcg = 5\n",
    "\n",
    "for i, item in enumerate(perc):\n",
    "    \n",
    "    lr = LogisticRegression(C=1.0, max_iter=20, tol=1e-6, solver='newton-cg', multi_class='ovr')\n",
    "    train_score_iter = []\n",
    "    cv_score_iter = []\n",
    "    \n",
    "    n = int(xtrain_new.shape[0]*item)\n",
    "    xtrain_perc = xtrain_new[:n, :]\n",
    "    ytrain_perc = ytrain_new[:n]\n",
    "\n",
    "\n",
    "    for train_index, test_index in kf.split(xtrain_perc, ytrain_perc):\n",
    "        \n",
    "        X_train, X_test = xtrain_perc[train_index, :], xtrain_perc[test_index, :]\n",
    "        y_train, y_test = ytrain_perc[train_index], ytrain_perc[test_index]\n",
    "\n",
    "        print(X_train.shape, X_test.shape)\n",
    "        \n",
    "        lr.fit(X_train, y_train)\n",
    "\n",
    "        y_pred = lr.predict_proba(X_test)\n",
    "        train_ndcg_score = ndcg_score(y_train, lr.predict_proba(X_train), k = k_ndcg)\n",
    "        cv_ndcg_score = ndcg_score(y_test, y_pred, k=k_ndcg)\n",
    "\n",
    "        train_score_iter.append(train_ndcg_score)\n",
    "        cv_score_iter.append(cv_ndcg_score)\n",
    "        \n",
    "    train_score.append(np.mean(train_score_iter))\n",
    "    cv_score.append(np.mean(cv_score_iter))"
   ]
  },
  {
   "cell_type": "code",
   "execution_count": 108,
   "metadata": {},
   "outputs": [
    {
     "data": {
      "image/png": "[encoded data removed]",
      "text/plain": [
       "<matplotlib.figure.Figure at 0x20c13fee390>"
      ]
     },
     "metadata": {},
     "output_type": "display_data"
    }
   ],
   "source": [
    "ymin = np.min(cv_score)-0.1\n",
    "ymax = np.max(train_score)+0.1\n",
    "\n",
    "plt.figure(figsize=(9,4))\n",
    "plt.plot(np.array(perc)*100, train_score, 'ro-', label = 'training')\n",
    "plt.plot(np.array(perc)*100, cv_score, 'bo-', label = 'Cross-validation')\n",
    "plt.xlabel(\"Sample size (unit %)\")\n",
    "plt.ylabel(\"Score\")\n",
    "plt.xlim(-5, np.max(perc)*100+10)\n",
    "plt.ylim(ymin, ymax)\n",
    "\n",
    "plt.legend(loc = 'lower right', fontsize = 12)\n",
    "plt.title(\"Score vs sample size learning curve\")\n",
    "\n",
    "plt.tight_layout()"
   ]
  },
  {
   "cell_type": "markdown",
   "metadata": {},
   "source": [
    "分析：随着数据量的增加，逻辑回归模型对测试集的预测评分（蓝色线）在不断上升，因为我们在训练模型时只用了10%的数据，如果使用全部的数据，效果可能会更好"
   ]
  },
  {
   "cell_type": "markdown",
   "metadata": {},
   "source": [
    "6.2 树模型\n",
    "\n",
    "    其中的模型包括DecisionTree，RandomForest，AdaBoost，Bagging，ExtraTree，GraBoost\n"
   ]
  },
  {
   "cell_type": "code",
   "execution_count": 109,
   "metadata": {
    "collapsed": true
   },
   "outputs": [],
   "source": [
    "from sklearn.ensemble import AdaBoostClassifier,BaggingClassifier,ExtraTreesClassifier\n",
    "from sklearn.ensemble import GradientBoostingClassifier,RandomForestClassifier\n",
    "from sklearn.tree import DecisionTreeClassifier\n",
    "from sklearn.ensemble import *\n",
    "from sklearn.svm import SVC ,LinearSVC,NuSVC\n",
    "LEARNING_RATE = 0.1\n",
    "N_ESTIMATORS = 50\n",
    "RANDOM_STATE = 2019\n",
    "MAX_DEPTH = 9\n",
    "\n",
    "#建了一个tree字典\n",
    "clf_tree={\n",
    "    'DTree':DecisionTreeClassifier(max_depth=MAX_DEPTH,random_state=RANDOM_STATE),\n",
    "    'RF':RandomForestClassifier(n_estimators=N_ESTIMATORS,max_depth=MAX_DEPTH,random_state=RANDOM_STATE),\n",
    "    'AdaBoost':BaggingClassifier(n_estimators=N_ESTIMATORS,random_state=RANDOM_STATE),\n",
    "    'ExtraTree':ExtraTreesClassifier(max_depth=MAX_DEPTH,n_estimators=N_ESTIMATORS,random_state=RANDOM_STATE),\n",
    "    'GraBoost':GradientBoostingClassifier(learning_rate=LEARNING_RATE,max_depth=MAX_DEPTH,n_estimators=N_ESTIMATORS,random_state=RANDOM_STATE)\n",
    "}\n",
    "train_score=[]\n",
    "cv_score=[]\n",
    "\n",
    "kf=KFold(n_splits=3,random_state=RANDOM_STATE)\n",
    "\n",
    "k_ndcg=5\n",
    "\n",
    "for key in clf_tree.keys():\n",
    "    clf=clf_tree.get(key)\n",
    "    \n",
    "    train_score_iter=[]\n",
    "    cv_score_iter=[]\n",
    "    \n",
    "    for train_index,test_index in kf.split(xtrain_new,ytrain_new):\n",
    "        X_train,X_test = xtrain_new[train_index,:],xtrain_new[test_index,:]\n",
    "        y_train,y_test = ytrain_new[train_index],ytrain_new[test_index]\n",
    "        \n",
    "        clf.fit(X_train,y_train)\n",
    "        \n",
    "        y_pred = clf.predict_proba(X_test)\n",
    "        train_ndcg_score = ndcg_score(y_train,clf.predict_proba(X_train),k=k_ndcg)\n",
    "        cv_ndcg_score = ndcg_score(y_test,y_pred,k=k_ndcg)\n",
    "        \n",
    "        train_score_iter.append(train_ndcg_score)\n",
    "        cv_score_iter.append(cv_ndcg_score)\n",
    "    \n",
    "    train_score.append(np.mean(train_score_iter))\n",
    "    cv_score.append(np.mean(cv_score_iter))"
   ]
  },
  {
   "cell_type": "code",
   "execution_count": 110,
   "metadata": {},
   "outputs": [
    {
     "data": {
      "image/png": "[encoded data removed]",
      "text/plain": [
       "<matplotlib.figure.Figure at 0x20c140e1748>"
      ]
     },
     "metadata": {},
     "output_type": "display_data"
    }
   ],
   "source": [
    "train_score_tree = train_score\n",
    "cv_score_tree = cv_score\n",
    "\n",
    "ymin = np.min(cv_score)-0.05\n",
    "ymax = np.max(train_score)+0.05\n",
    "\n",
    "x_ticks = clf_tree.keys()\n",
    "\n",
    "plt.figure(figsize=(8,5))\n",
    "plt.plot(range(len(x_ticks)), train_score_tree, 'ro-', label = 'training')\n",
    "plt.plot(range(len(x_ticks)),cv_score_tree, 'bo-', label = 'Cross-validation')\n",
    "\n",
    "plt.xticks(range(len(x_ticks)),x_ticks,rotation = 45, fontsize = 10)\n",
    "plt.xlabel(\"Tree method\", fontsize = 12)\n",
    "plt.ylabel(\"Score\", fontsize = 12)\n",
    "plt.xlim(-0.5, 5.5)\n",
    "plt.ylim(ymin, ymax)\n",
    "\n",
    "plt.legend(loc = 'best', fontsize = 12)\n",
    "plt.title(\"Different tree methods\")\n",
    "\n",
    "plt.tight_layout()"
   ]
  },
  {
   "cell_type": "code",
   "execution_count": null,
   "metadata": {
    "collapsed": true
   },
   "outputs": [],
   "source": []
  }
 ],
 "metadata": {
  "kernelspec": {
   "display_name": "Python 3",
   "language": "python",
   "name": "python3"
  },
  "language_info": {
   "codemirror_mode": {
    "name": "ipython",
    "version": 3
   },
   "file_extension": ".py",
   "mimetype": "text/x-python",
   "name": "python",
   "nbconvert_exporter": "python",
   "pygments_lexer": "ipython3",
   "version": "3.6.3"
  }
 },
 "nbformat": 4,
 "nbformat_minor": 2
}
